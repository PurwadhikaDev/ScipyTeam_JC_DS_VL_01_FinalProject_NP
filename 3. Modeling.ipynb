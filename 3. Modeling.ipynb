{
 "cells": [
  {
   "cell_type": "code",
   "execution_count": 1,
   "metadata": {},
   "outputs": [],
   "source": [
    "import numpy as np\n",
    "import pandas as pd\n",
    "import matplotlib.pyplot as plt\n",
    "import seaborn as sns\n",
    "import sklearn\n",
    "from scipy import stats\n",
    "\n",
    "# import statsmodels.api as sm\n",
    "# from statsmodels.stats.outliers_influence import variance_inflation_factor\n",
    "\n",
    "from sklearn import preprocessing\n",
    "from sklearn.preprocessing import LabelEncoder, RobustScaler, OneHotEncoder\n",
    "from sklearn.compose import ColumnTransformer\n",
    "from sklearn import metrics\n",
    "from sklearn.feature_selection import RFE, SelectPercentile\n",
    "from sklearn.decomposition import PCA\n",
    "\n",
    "from sklearn.model_selection import cross_val_score, GridSearchCV, train_test_split, RepeatedStratifiedKFold\n",
    "from imblearn.pipeline import Pipeline\n",
    "\n",
    "from sklearn.linear_model import LogisticRegression\n",
    "from sklearn.tree import DecisionTreeClassifier\n",
    "from sklearn.neighbors import KNeighborsClassifier\n",
    "from sklearn.ensemble import RandomForestClassifier\n",
    "from xgboost.sklearn import XGBClassifier\n",
    "\n",
    "\n",
    "# from sklearn.metrics import recall_score, precision_score\n",
    "from sklearn.metrics import classification_report, confusion_matrix\n",
    "from sklearn.metrics import plot_precision_recall_curve, plot_roc_curve\n",
    "\n",
    "import category_encoders as ce\n",
    "from sklearn.metrics import SCORERS, roc_curve, precision_recall_curve\n",
    "from imblearn.over_sampling import SMOTE\n",
    "\n",
    "import warnings\n",
    "warnings.filterwarnings('ignore')\n",
    "%matplotlib inline\n",
    "pd.options.display.max_columns = None"
   ]
  },
  {
   "cell_type": "code",
   "execution_count": 2,
   "metadata": {},
   "outputs": [
    {
     "data": {
      "text/html": [
       "<div>\n",
       "<style scoped>\n",
       "    .dataframe tbody tr th:only-of-type {\n",
       "        vertical-align: middle;\n",
       "    }\n",
       "\n",
       "    .dataframe tbody tr th {\n",
       "        vertical-align: top;\n",
       "    }\n",
       "\n",
       "    .dataframe thead th {\n",
       "        text-align: right;\n",
       "    }\n",
       "</style>\n",
       "<table border=\"1\" class=\"dataframe\">\n",
       "  <thead>\n",
       "    <tr style=\"text-align: right;\">\n",
       "      <th></th>\n",
       "      <th>Gender</th>\n",
       "      <th>SeniorCitizen</th>\n",
       "      <th>Partner</th>\n",
       "      <th>Dependents</th>\n",
       "      <th>Tenure</th>\n",
       "      <th>PhoneService</th>\n",
       "      <th>MultipleLines</th>\n",
       "      <th>InternetService</th>\n",
       "      <th>OnlineSecurity</th>\n",
       "      <th>OnlineBackup</th>\n",
       "      <th>DeviceProtection</th>\n",
       "      <th>TechSupport</th>\n",
       "      <th>StreamingTV</th>\n",
       "      <th>StreamingMovies</th>\n",
       "      <th>Contract</th>\n",
       "      <th>PaperlessBilling</th>\n",
       "      <th>PaymentMethod</th>\n",
       "      <th>MonthlyCharges</th>\n",
       "      <th>TotalCharges</th>\n",
       "      <th>Churn</th>\n",
       "    </tr>\n",
       "  </thead>\n",
       "  <tbody>\n",
       "    <tr>\n",
       "      <th>0</th>\n",
       "      <td>Female</td>\n",
       "      <td>No</td>\n",
       "      <td>Yes</td>\n",
       "      <td>No</td>\n",
       "      <td>1</td>\n",
       "      <td>No</td>\n",
       "      <td>No phone service</td>\n",
       "      <td>DSL</td>\n",
       "      <td>No</td>\n",
       "      <td>Yes</td>\n",
       "      <td>No</td>\n",
       "      <td>No</td>\n",
       "      <td>No</td>\n",
       "      <td>No</td>\n",
       "      <td>Month-to-month</td>\n",
       "      <td>Yes</td>\n",
       "      <td>Electronic check</td>\n",
       "      <td>29.85</td>\n",
       "      <td>29.85</td>\n",
       "      <td>No</td>\n",
       "    </tr>\n",
       "    <tr>\n",
       "      <th>1</th>\n",
       "      <td>Male</td>\n",
       "      <td>No</td>\n",
       "      <td>No</td>\n",
       "      <td>No</td>\n",
       "      <td>34</td>\n",
       "      <td>Yes</td>\n",
       "      <td>No</td>\n",
       "      <td>DSL</td>\n",
       "      <td>Yes</td>\n",
       "      <td>No</td>\n",
       "      <td>Yes</td>\n",
       "      <td>No</td>\n",
       "      <td>No</td>\n",
       "      <td>No</td>\n",
       "      <td>One year</td>\n",
       "      <td>No</td>\n",
       "      <td>Mailed check</td>\n",
       "      <td>56.95</td>\n",
       "      <td>1889.50</td>\n",
       "      <td>No</td>\n",
       "    </tr>\n",
       "  </tbody>\n",
       "</table>\n",
       "</div>"
      ],
      "text/plain": [
       "   Gender SeniorCitizen Partner Dependents  Tenure PhoneService  \\\n",
       "0  Female            No     Yes         No       1           No   \n",
       "1    Male            No      No         No      34          Yes   \n",
       "\n",
       "      MultipleLines InternetService OnlineSecurity OnlineBackup  \\\n",
       "0  No phone service             DSL             No          Yes   \n",
       "1                No             DSL            Yes           No   \n",
       "\n",
       "  DeviceProtection TechSupport StreamingTV StreamingMovies        Contract  \\\n",
       "0               No          No          No              No  Month-to-month   \n",
       "1              Yes          No          No              No        One year   \n",
       "\n",
       "  PaperlessBilling     PaymentMethod  MonthlyCharges  TotalCharges Churn  \n",
       "0              Yes  Electronic check           29.85         29.85    No  \n",
       "1               No      Mailed check           56.95       1889.50    No  "
      ]
     },
     "execution_count": 2,
     "metadata": {},
     "output_type": "execute_result"
    }
   ],
   "source": [
    "telco = pd.read_csv('telco_clean.csv')\n",
    "telco.head(2)"
   ]
  },
  {
   "cell_type": "code",
   "execution_count": 3,
   "metadata": {},
   "outputs": [
    {
     "data": {
      "text/html": [
       "<div>\n",
       "<style scoped>\n",
       "    .dataframe tbody tr th:only-of-type {\n",
       "        vertical-align: middle;\n",
       "    }\n",
       "\n",
       "    .dataframe tbody tr th {\n",
       "        vertical-align: top;\n",
       "    }\n",
       "\n",
       "    .dataframe thead th {\n",
       "        text-align: right;\n",
       "    }\n",
       "</style>\n",
       "<table border=\"1\" class=\"dataframe\">\n",
       "  <thead>\n",
       "    <tr style=\"text-align: right;\">\n",
       "      <th></th>\n",
       "      <th>SeniorCitizen</th>\n",
       "      <th>Partner</th>\n",
       "      <th>Dependents</th>\n",
       "      <th>Tenure</th>\n",
       "      <th>MultipleLines</th>\n",
       "      <th>InternetService</th>\n",
       "      <th>OnlineSecurity</th>\n",
       "      <th>OnlineBackup</th>\n",
       "      <th>DeviceProtection</th>\n",
       "      <th>TechSupport</th>\n",
       "      <th>StreamingTV</th>\n",
       "      <th>StreamingMovies</th>\n",
       "      <th>Contract</th>\n",
       "      <th>PaperlessBilling</th>\n",
       "      <th>PaymentMethod</th>\n",
       "      <th>MonthlyCharges</th>\n",
       "      <th>TotalCharges</th>\n",
       "      <th>Churn</th>\n",
       "    </tr>\n",
       "  </thead>\n",
       "  <tbody>\n",
       "    <tr>\n",
       "      <th>0</th>\n",
       "      <td>No</td>\n",
       "      <td>Yes</td>\n",
       "      <td>No</td>\n",
       "      <td>1</td>\n",
       "      <td>No phone service</td>\n",
       "      <td>DSL</td>\n",
       "      <td>No</td>\n",
       "      <td>Yes</td>\n",
       "      <td>No</td>\n",
       "      <td>No</td>\n",
       "      <td>No</td>\n",
       "      <td>No</td>\n",
       "      <td>Month-to-month</td>\n",
       "      <td>Yes</td>\n",
       "      <td>Electronic check</td>\n",
       "      <td>29.85</td>\n",
       "      <td>29.85</td>\n",
       "      <td>No</td>\n",
       "    </tr>\n",
       "    <tr>\n",
       "      <th>1</th>\n",
       "      <td>No</td>\n",
       "      <td>No</td>\n",
       "      <td>No</td>\n",
       "      <td>34</td>\n",
       "      <td>No</td>\n",
       "      <td>DSL</td>\n",
       "      <td>Yes</td>\n",
       "      <td>No</td>\n",
       "      <td>Yes</td>\n",
       "      <td>No</td>\n",
       "      <td>No</td>\n",
       "      <td>No</td>\n",
       "      <td>One year</td>\n",
       "      <td>No</td>\n",
       "      <td>Mailed check</td>\n",
       "      <td>56.95</td>\n",
       "      <td>1889.50</td>\n",
       "      <td>No</td>\n",
       "    </tr>\n",
       "  </tbody>\n",
       "</table>\n",
       "</div>"
      ],
      "text/plain": [
       "  SeniorCitizen Partner Dependents  Tenure     MultipleLines InternetService  \\\n",
       "0            No     Yes         No       1  No phone service             DSL   \n",
       "1            No      No         No      34                No             DSL   \n",
       "\n",
       "  OnlineSecurity OnlineBackup DeviceProtection TechSupport StreamingTV  \\\n",
       "0             No          Yes               No          No          No   \n",
       "1            Yes           No              Yes          No          No   \n",
       "\n",
       "  StreamingMovies        Contract PaperlessBilling     PaymentMethod  \\\n",
       "0              No  Month-to-month              Yes  Electronic check   \n",
       "1              No        One year               No      Mailed check   \n",
       "\n",
       "   MonthlyCharges  TotalCharges Churn  \n",
       "0           29.85         29.85    No  \n",
       "1           56.95       1889.50    No  "
      ]
     },
     "execution_count": 3,
     "metadata": {},
     "output_type": "execute_result"
    }
   ],
   "source": [
    "# Hapus kolom Gender, karena nilainya tidak memengaruhi model.\n",
    "# Hapus kolom Phone Service, karena nilainya ada di kolom multiple lines juga\n",
    "\n",
    "telco2 = telco.drop(['Gender', 'PhoneService'], axis = 1)\n",
    "telco2.head(2)"
   ]
  },
  {
   "cell_type": "code",
   "execution_count": 4,
   "metadata": {},
   "outputs": [
    {
     "data": {
      "text/plain": [
       "SeniorCitizen       0\n",
       "Partner             0\n",
       "Dependents          0\n",
       "Tenure              0\n",
       "MultipleLines       0\n",
       "InternetService     0\n",
       "OnlineSecurity      0\n",
       "OnlineBackup        0\n",
       "DeviceProtection    0\n",
       "TechSupport         0\n",
       "StreamingTV         0\n",
       "StreamingMovies     0\n",
       "Contract            0\n",
       "PaperlessBilling    0\n",
       "PaymentMethod       0\n",
       "MonthlyCharges      0\n",
       "TotalCharges        0\n",
       "Churn               0\n",
       "dtype: int64"
      ]
     },
     "execution_count": 4,
     "metadata": {},
     "output_type": "execute_result"
    }
   ],
   "source": [
    "# Cek data yang kosong\n",
    "\n",
    "telco2.isnull().sum()"
   ]
  },
  {
   "cell_type": "code",
   "execution_count": 5,
   "metadata": {},
   "outputs": [
    {
     "data": {
      "text/plain": [
       "No     5174\n",
       "Yes    1869\n",
       "Name: Churn, dtype: int64"
      ]
     },
     "execution_count": 5,
     "metadata": {},
     "output_type": "execute_result"
    }
   ],
   "source": [
    "# Cek nilai kolom Churn\n",
    "\n",
    "telco2['Churn'].value_counts()"
   ]
  },
  {
   "cell_type": "code",
   "execution_count": 6,
   "metadata": {},
   "outputs": [
    {
     "data": {
      "text/plain": [
       "0    5174\n",
       "1    1869\n",
       "Name: Churn, dtype: int64"
      ]
     },
     "execution_count": 6,
     "metadata": {},
     "output_type": "execute_result"
    }
   ],
   "source": [
    "le = LabelEncoder()\n",
    "telco2['Churn'] = le.fit_transform(telco['Churn'])\n",
    "telco2['Churn'].value_counts()"
   ]
  },
  {
   "cell_type": "code",
   "execution_count": 7,
   "metadata": {},
   "outputs": [],
   "source": [
    "X = telco2.drop(\"Churn\", axis=1)\n",
    "y = telco2[\"Churn\"]\n",
    "\n",
    "X_train_val, X_test, y_train_val, y_test = train_test_split(\n",
    "    X,\n",
    "    y,\n",
    "    stratify = y, # stratified random sampling\n",
    "    test_size = 0.2,\n",
    "    random_state=2020)"
   ]
  },
  {
   "cell_type": "markdown",
   "metadata": {},
   "source": [
    "## Base Models"
   ]
  },
  {
   "cell_type": "markdown",
   "metadata": {},
   "source": [
    "Ada 2 cara yang dapat digunakan untuk mengatasi data target (y) yang imbalance:\n",
    "\n",
    "1. Setting parameter \"(class_weight='balanced')\" untuk model yang memilikinya dan masing-masing \"random_state\" parameter.\n",
    "1. Menggunakan metode SMOTE oversampling dan setting \"random_state\" parameter untuk model yang tidak memiliki \"class_weight\" parameter."
   ]
  },
  {
   "cell_type": "code",
   "execution_count": 8,
   "metadata": {},
   "outputs": [],
   "source": [
    "logreg = LogisticRegression(random_state=2020, class_weight='balanced')\n",
    "dtc = DecisionTreeClassifier(random_state=2020, class_weight='balanced')\n",
    "rfc = RandomForestClassifier(random_state=2020, class_weight='balanced')\n",
    "xgb = XGBClassifier(random_state=2020)\n",
    "knc = KNeighborsClassifier()\n",
    "smote = SMOTE()"
   ]
  },
  {
   "cell_type": "code",
   "execution_count": 9,
   "metadata": {},
   "outputs": [
    {
     "data": {
      "text/plain": [
       "dict_keys(['explained_variance', 'r2', 'max_error', 'neg_median_absolute_error', 'neg_mean_absolute_error', 'neg_mean_squared_error', 'neg_mean_squared_log_error', 'neg_root_mean_squared_error', 'neg_mean_poisson_deviance', 'neg_mean_gamma_deviance', 'accuracy', 'roc_auc', 'roc_auc_ovr', 'roc_auc_ovo', 'roc_auc_ovr_weighted', 'roc_auc_ovo_weighted', 'balanced_accuracy', 'average_precision', 'neg_log_loss', 'neg_brier_score', 'adjusted_rand_score', 'homogeneity_score', 'completeness_score', 'v_measure_score', 'mutual_info_score', 'adjusted_mutual_info_score', 'normalized_mutual_info_score', 'fowlkes_mallows_score', 'precision', 'precision_macro', 'precision_micro', 'precision_samples', 'precision_weighted', 'recall', 'recall_macro', 'recall_micro', 'recall_samples', 'recall_weighted', 'f1', 'f1_macro', 'f1_micro', 'f1_samples', 'f1_weighted', 'jaccard', 'jaccard_macro', 'jaccard_micro', 'jaccard_samples', 'jaccard_weighted'])"
      ]
     },
     "execution_count": 9,
     "metadata": {},
     "output_type": "execute_result"
    }
   ],
   "source": [
    "sklearn.metrics.SCORERS.keys()"
   ]
  },
  {
   "cell_type": "code",
   "execution_count": 10,
   "metadata": {},
   "outputs": [
    {
     "name": "stdout",
     "output_type": "stream",
     "text": [
      "<class 'pandas.core.frame.DataFrame'>\n",
      "RangeIndex: 7043 entries, 0 to 7042\n",
      "Data columns (total 18 columns):\n",
      " #   Column            Non-Null Count  Dtype  \n",
      "---  ------            --------------  -----  \n",
      " 0   SeniorCitizen     7043 non-null   object \n",
      " 1   Partner           7043 non-null   object \n",
      " 2   Dependents        7043 non-null   object \n",
      " 3   Tenure            7043 non-null   int64  \n",
      " 4   MultipleLines     7043 non-null   object \n",
      " 5   InternetService   7043 non-null   object \n",
      " 6   OnlineSecurity    7043 non-null   object \n",
      " 7   OnlineBackup      7043 non-null   object \n",
      " 8   DeviceProtection  7043 non-null   object \n",
      " 9   TechSupport       7043 non-null   object \n",
      " 10  StreamingTV       7043 non-null   object \n",
      " 11  StreamingMovies   7043 non-null   object \n",
      " 12  Contract          7043 non-null   object \n",
      " 13  PaperlessBilling  7043 non-null   object \n",
      " 14  PaymentMethod     7043 non-null   object \n",
      " 15  MonthlyCharges    7043 non-null   float64\n",
      " 16  TotalCharges      7043 non-null   float64\n",
      " 17  Churn             7043 non-null   int32  \n",
      "dtypes: float64(2), int32(1), int64(1), object(14)\n",
      "memory usage: 963.0+ KB\n"
     ]
    }
   ],
   "source": [
    "telco2.info()"
   ]
  },
  {
   "cell_type": "code",
   "execution_count": 11,
   "metadata": {},
   "outputs": [],
   "source": [
    "num_features = ['Tenure', 'MonthlyCharges', 'TotalCharges']\n",
    "cat_features = ['SeniorCitizen', 'Partner', 'Dependents', 'MultipleLines', 'InternetService', \n",
    "                'OnlineSecurity', 'OnlineBackup', 'DeviceProtection', 'TechSupport', 'StreamingTV', 'StreamingMovies', \n",
    "                'Contract', 'PaperlessBilling', 'PaymentMethod']\n",
    "target = 'Churn'"
   ]
  },
  {
   "cell_type": "markdown",
   "metadata": {},
   "source": [
    "### Pipeline "
   ]
  },
  {
   "cell_type": "code",
   "execution_count": 12,
   "metadata": {},
   "outputs": [],
   "source": [
    "# for monthly and total charges\n",
    "logreg_scale = Pipeline([\n",
    "    ('scaler', RobustScaler()),\n",
    "    ('pca', PCA(n_components=1))\n",
    "])\n",
    "\n",
    "# for all object columns\n",
    "logreg_pipe_cat = Pipeline([\n",
    "    ('onehot', OneHotEncoder(drop='first'))\n",
    "])\n",
    "\n",
    "# transforming all columns\n",
    "transformer = ColumnTransformer([\n",
    "    ('num', logreg_scale, ['MonthlyCharges', 'TotalCharges']),\n",
    "    ('cat', logreg_pipe_cat, ['SeniorCitizen', 'Partner', 'Dependents', 'MultipleLines', 'InternetService', \n",
    "                'OnlineSecurity', 'OnlineBackup', 'DeviceProtection', 'TechSupport', 'StreamingTV', 'StreamingMovies', \n",
    "                'Contract', 'PaperlessBilling', 'PaymentMethod'])\n",
    "], remainder = 'passthrough')"
   ]
  },
  {
   "cell_type": "markdown",
   "metadata": {},
   "source": [
    "#### For Logistic Regression"
   ]
  },
  {
   "cell_type": "code",
   "execution_count": 13,
   "metadata": {},
   "outputs": [],
   "source": [
    "logreg_pipe_all = Pipeline([\n",
    "    ('transformer', transformer),\n",
    "    ('rfe', RFE(logreg)),\n",
    "    ('resampling', smote),\n",
    "    ('all_logreg', logreg)\n",
    "])"
   ]
  },
  {
   "cell_type": "code",
   "execution_count": 14,
   "metadata": {},
   "outputs": [
    {
     "name": "stderr",
     "output_type": "stream",
     "text": [
      "[Parallel(n_jobs=-1)]: Using backend LokyBackend with 2 concurrent workers.\n",
      "[Parallel(n_jobs=-1)]: Done  46 tasks      | elapsed:   24.5s\n",
      "[Parallel(n_jobs=-1)]: Done  50 out of  50 | elapsed:   26.3s finished\n"
     ]
    }
   ],
   "source": [
    "rskf = RepeatedStratifiedKFold(random_state=2020)\n",
    "logreg_cv = cross_val_score(logreg_pipe_all, X_train_val, y_train_val, cv = rskf, scoring='recall', verbose = 1, n_jobs = -1)"
   ]
  },
  {
   "cell_type": "code",
   "execution_count": 15,
   "metadata": {},
   "outputs": [
    {
     "name": "stdout",
     "output_type": "stream",
     "text": [
      "CV Logistic Regression [0.77591973 0.7826087  0.7826087  0.77926421 0.82274247 0.80267559\n",
      " 0.77591973 0.77926421 0.77257525 0.80267559 0.81605351 0.77926421\n",
      " 0.76588629 0.81939799 0.77591973 0.75250836 0.80936455 0.76588629\n",
      " 0.7826087  0.83277592 0.75919732 0.85618729 0.7826087  0.81270903\n",
      " 0.75585284 0.78595318 0.7826087  0.78929766 0.77257525 0.7993311\n",
      " 0.75250836 0.7993311  0.81939799 0.79598662 0.76923077 0.76923077\n",
      " 0.75585284 0.75585284 0.81605351 0.8361204  0.75250836 0.78595318\n",
      " 0.76923077 0.80936455 0.80936455 0.77926421 0.7826087  0.80936455\n",
      " 0.79598662 0.75585284]\n",
      "CV Logistic Regression 0.7878260869565219\n"
     ]
    }
   ],
   "source": [
    "print('CV Logistic Regression', logreg_cv)\n",
    "print('CV Logistic Regression', logreg_cv.mean())"
   ]
  },
  {
   "cell_type": "markdown",
   "metadata": {},
   "source": [
    "#### For Decision Tree Classifier"
   ]
  },
  {
   "cell_type": "code",
   "execution_count": 16,
   "metadata": {},
   "outputs": [],
   "source": [
    "dtc_pipe_all = Pipeline([\n",
    "    ('transformer', transformer),\n",
    "    ('rfe', RFE(dtc)),\n",
    "    ('resampling', smote),\n",
    "    ('all_dtc', dtc)\n",
    "])"
   ]
  },
  {
   "cell_type": "code",
   "execution_count": 17,
   "metadata": {},
   "outputs": [
    {
     "name": "stderr",
     "output_type": "stream",
     "text": [
      "[Parallel(n_jobs=-1)]: Using backend LokyBackend with 2 concurrent workers.\n",
      "[Parallel(n_jobs=-1)]: Done  46 tasks      | elapsed:   11.6s\n",
      "[Parallel(n_jobs=-1)]: Done  50 out of  50 | elapsed:   13.0s finished\n"
     ]
    }
   ],
   "source": [
    "rskf = RepeatedStratifiedKFold(random_state=2020)\n",
    "dtc_cv = cross_val_score(dtc_pipe_all, X_train_val, y_train_val, cv = rskf, scoring='recall', verbose = 1, n_jobs = -1)"
   ]
  },
  {
   "cell_type": "code",
   "execution_count": 18,
   "metadata": {},
   "outputs": [
    {
     "name": "stdout",
     "output_type": "stream",
     "text": [
      "CV Decision Tree Classifier [0.56856187 0.53846154 0.48494983 0.56856187 0.55852843 0.60200669\n",
      " 0.51839465 0.55518395 0.52508361 0.54180602 0.55183946 0.53511706\n",
      " 0.56856187 0.52173913 0.52508361 0.52508361 0.51170569 0.45150502\n",
      " 0.49832776 0.56187291 0.55852843 0.52842809 0.46822742 0.55518395\n",
      " 0.54180602 0.55518395 0.51839465 0.50167224 0.56521739 0.52508361\n",
      " 0.49832776 0.55852843 0.53511706 0.51505017 0.51839465 0.51505017\n",
      " 0.54849498 0.55518395 0.55518395 0.53846154 0.54180602 0.52842809\n",
      " 0.48160535 0.56187291 0.60200669 0.53511706 0.48494983 0.57525084\n",
      " 0.56521739 0.48160535]\n",
      "CV Decision Tree Classifier 0.5345150501672241\n"
     ]
    }
   ],
   "source": [
    "print('CV Decision Tree Classifier', dtc_cv)\n",
    "print('CV Decision Tree Classifier', dtc_cv.mean())"
   ]
  },
  {
   "cell_type": "markdown",
   "metadata": {},
   "source": [
    "#### For Random Forest Classifier"
   ]
  },
  {
   "cell_type": "code",
   "execution_count": 19,
   "metadata": {},
   "outputs": [],
   "source": [
    "rfc_pipe_all = Pipeline([\n",
    "    ('transformer', transformer),\n",
    "    ('rfe', RFE(rfc)),\n",
    "    ('resampling', smote),\n",
    "    ('all_rfc', rfc)\n",
    "])"
   ]
  },
  {
   "cell_type": "code",
   "execution_count": 20,
   "metadata": {},
   "outputs": [
    {
     "name": "stderr",
     "output_type": "stream",
     "text": [
      "[Parallel(n_jobs=-1)]: Using backend LokyBackend with 2 concurrent workers.\n",
      "[Parallel(n_jobs=-1)]: Done  46 tasks      | elapsed:  4.7min\n",
      "[Parallel(n_jobs=-1)]: Done  50 out of  50 | elapsed:  5.1min finished\n"
     ]
    }
   ],
   "source": [
    "rskf = RepeatedStratifiedKFold(random_state=2020)\n",
    "rfc_cv = cross_val_score(rfc_pipe_all, X_train_val, y_train_val, cv = rskf, scoring='recall', verbose = 1, n_jobs = -1)"
   ]
  },
  {
   "cell_type": "code",
   "execution_count": 21,
   "metadata": {},
   "outputs": [
    {
     "name": "stdout",
     "output_type": "stream",
     "text": [
      "CV Random Forest Classifier  [0.56521739 0.48829431 0.47491639 0.52173913 0.55183946 0.56187291\n",
      " 0.53177258 0.57190635 0.54849498 0.51170569 0.53846154 0.53177258\n",
      " 0.55183946 0.56187291 0.52842809 0.54180602 0.51839465 0.44147157\n",
      " 0.53511706 0.55852843 0.53511706 0.54180602 0.51170569 0.57190635\n",
      " 0.55183946 0.58528428 0.53846154 0.51505017 0.56856187 0.47491639\n",
      " 0.52508361 0.54849498 0.55518395 0.54180602 0.51170569 0.51505017\n",
      " 0.52842809 0.53511706 0.56856187 0.57859532 0.54849498 0.56187291\n",
      " 0.48494983 0.54180602 0.5819398  0.53177258 0.51505017 0.57859532\n",
      " 0.55183946 0.49832776]\n",
      "CV Random Forest Classifier 0.5366555183946488\n"
     ]
    }
   ],
   "source": [
    "print('CV Random Forest Classifier ', rfc_cv)\n",
    "print('CV Random Forest Classifier', rfc_cv.mean())"
   ]
  },
  {
   "cell_type": "markdown",
   "metadata": {},
   "source": [
    "#### For XGB Classifier"
   ]
  },
  {
   "cell_type": "code",
   "execution_count": 22,
   "metadata": {},
   "outputs": [],
   "source": [
    "xgb_pipe_all = Pipeline([\n",
    "    ('transformer', transformer),\n",
    "    ('resampling', smote),\n",
    "    ('rfe', RFE(xgb)),\n",
    "    ('all_xgb', xgb)\n",
    "])"
   ]
  },
  {
   "cell_type": "code",
   "execution_count": 23,
   "metadata": {},
   "outputs": [
    {
     "name": "stderr",
     "output_type": "stream",
     "text": [
      "[Parallel(n_jobs=-1)]: Using backend LokyBackend with 2 concurrent workers.\n",
      "[Parallel(n_jobs=-1)]: Done  46 tasks      | elapsed: 12.9min\n",
      "[Parallel(n_jobs=-1)]: Done  50 out of  50 | elapsed: 13.9min finished\n"
     ]
    }
   ],
   "source": [
    "rskf = RepeatedStratifiedKFold(random_state=2020)\n",
    "xgb_cv = cross_val_score(xgb_pipe_all, X_train_val, y_train_val, cv = rskf, scoring='recall', verbose = 1, n_jobs = -1)"
   ]
  },
  {
   "cell_type": "code",
   "execution_count": 24,
   "metadata": {},
   "outputs": [
    {
     "name": "stdout",
     "output_type": "stream",
     "text": [
      "CV XGB Classifier [0.57525084 0.55518395 0.5451505  0.57190635 0.54849498 0.56856187\n",
      " 0.5451505  0.60200669 0.55518395 0.55183946 0.55852843 0.55183946\n",
      " 0.51839465 0.64214047 0.54180602 0.58862876 0.53846154 0.54849498\n",
      " 0.53177258 0.59197324 0.54180602 0.5451505  0.55518395 0.55518395\n",
      " 0.51505017 0.57190635 0.57859532 0.55183946 0.55852843 0.56187291\n",
      " 0.51839465 0.5819398  0.59866221 0.57525084 0.53511706 0.5451505\n",
      " 0.55183946 0.56187291 0.59866221 0.5451505  0.51505017 0.55852843\n",
      " 0.50501672 0.55852843 0.55518395 0.54180602 0.60200669 0.55852843\n",
      " 0.55518395 0.53846154]\n",
      "CV XGB Classifier 0.5573244147157191\n"
     ]
    }
   ],
   "source": [
    "print('CV XGB Classifier', xgb_cv)\n",
    "print('CV XGB Classifier', xgb_cv.mean())"
   ]
  },
  {
   "cell_type": "markdown",
   "metadata": {},
   "source": [
    "#### For K Neighbors Classifier"
   ]
  },
  {
   "cell_type": "code",
   "execution_count": 25,
   "metadata": {},
   "outputs": [],
   "source": [
    "knc_pipe_all = Pipeline([\n",
    "    ('transformer', transformer),\n",
    "    ('resampling', smote),\n",
    "    ('all_knc', knc)\n",
    "])"
   ]
  },
  {
   "cell_type": "code",
   "execution_count": 26,
   "metadata": {},
   "outputs": [
    {
     "name": "stderr",
     "output_type": "stream",
     "text": [
      "[Parallel(n_jobs=-1)]: Using backend LokyBackend with 2 concurrent workers.\n",
      "[Parallel(n_jobs=-1)]: Done  46 tasks      | elapsed:    9.6s\n",
      "[Parallel(n_jobs=-1)]: Done  50 out of  50 | elapsed:   10.6s finished\n"
     ]
    }
   ],
   "source": [
    "rskf = RepeatedStratifiedKFold(random_state=2020)\n",
    "knc_cv = cross_val_score(knc_pipe_all, X_train_val, y_train_val, cv = rskf, scoring='recall', verbose = 1, n_jobs = -1)"
   ]
  },
  {
   "cell_type": "code",
   "execution_count": 27,
   "metadata": {},
   "outputs": [
    {
     "name": "stdout",
     "output_type": "stream",
     "text": [
      "CV K Nearest Classifier [0.73913043 0.75919732 0.74247492 0.78929766 0.76923077 0.78595318\n",
      " 0.76588629 0.73578595 0.77257525 0.72240803 0.76923077 0.76254181\n",
      " 0.74247492 0.76254181 0.71906355 0.77257525 0.77591973 0.75919732\n",
      " 0.79264214 0.77591973 0.71906355 0.79598662 0.75919732 0.7458194\n",
      " 0.76588629 0.79598662 0.75585284 0.74247492 0.75919732 0.7458194\n",
      " 0.74247492 0.75919732 0.75585284 0.82274247 0.74247492 0.73578595\n",
      " 0.74247492 0.7458194  0.79598662 0.7826087  0.75585284 0.75250836\n",
      " 0.71906355 0.80267559 0.78595318 0.76923077 0.76254181 0.76588629\n",
      " 0.76923077 0.74247492]\n",
      "CV K Nearest Classifier 0.7610033444816052\n"
     ]
    }
   ],
   "source": [
    "print('CV K Nearest Classifier', knc_cv)\n",
    "print('CV K Nearest Classifier', knc_cv.mean())"
   ]
  },
  {
   "cell_type": "markdown",
   "metadata": {},
   "source": [
    "## Tune Models"
   ]
  },
  {
   "cell_type": "markdown",
   "metadata": {},
   "source": [
    "### Top 3 Base Models"
   ]
  },
  {
   "cell_type": "code",
   "execution_count": 28,
   "metadata": {},
   "outputs": [
    {
     "name": "stdout",
     "output_type": "stream",
     "text": [
      "CV Logistic Regression 0.7878260869565219\n",
      "CV XGB Classifier 0.5573244147157191\n",
      "CV K Nearest Classifier 0.7610033444816052\n"
     ]
    }
   ],
   "source": [
    "print('CV Logistic Regression', logreg_cv.mean())\n",
    "print('CV XGB Classifier', xgb_cv.mean())\n",
    "print('CV K Nearest Classifier', knc_cv.mean())"
   ]
  },
  {
   "cell_type": "markdown",
   "metadata": {},
   "source": [
    "#### For Logistic Regression"
   ]
  },
  {
   "cell_type": "code",
   "execution_count": 29,
   "metadata": {},
   "outputs": [],
   "source": [
    "logreg_pipe_all_tuned = Pipeline([\n",
    "    ('transformer', transformer),\n",
    "    ('percen', SelectPercentile(percentile=50)),\n",
    "    ('all_logreg', logreg)\n",
    "])"
   ]
  },
  {
   "cell_type": "code",
   "execution_count": 30,
   "metadata": {},
   "outputs": [
    {
     "name": "stderr",
     "output_type": "stream",
     "text": [
      "[Parallel(n_jobs=-1)]: Using backend LokyBackend with 2 concurrent workers.\n",
      "[Parallel(n_jobs=-1)]: Done  46 tasks      | elapsed:    4.9s\n",
      "[Parallel(n_jobs=-1)]: Done  50 out of  50 | elapsed:    5.4s finished\n"
     ]
    }
   ],
   "source": [
    "rskf = RepeatedStratifiedKFold(random_state=2020)\n",
    "logreg_cv_tuned = cross_val_score(logreg_pipe_all_tuned, X_train_val, y_train_val, cv = rskf, scoring='recall', verbose = 1, n_jobs = -1)"
   ]
  },
  {
   "cell_type": "code",
   "execution_count": 31,
   "metadata": {},
   "outputs": [
    {
     "name": "stdout",
     "output_type": "stream",
     "text": [
      "CV Logistic Regression Percentile [0.78929766 0.7826087  0.78595318 0.81270903 0.81939799 0.81939799\n",
      " 0.77926421 0.78929766 0.79264214 0.81939799 0.81270903 0.7826087\n",
      " 0.80267559 0.83277592 0.77257525 0.7826087  0.78595318 0.7826087\n",
      " 0.79598662 0.83277592 0.74916388 0.85284281 0.79598662 0.7993311\n",
      " 0.77591973 0.80936455 0.80936455 0.7993311  0.81605351 0.77926421\n",
      " 0.77257525 0.80602007 0.81270903 0.81270903 0.78595318 0.77591973\n",
      " 0.76923077 0.79598662 0.84615385 0.82274247 0.78929766 0.80267559\n",
      " 0.74916388 0.83946488 0.81605351 0.80936455 0.78929766 0.80267559\n",
      " 0.81270903 0.7826087 ]\n",
      "CV Logistic Regression Percentile 0.7990635451505018\n",
      "CV Logistic Regression Percentile 0.7491638795986622\n",
      "CV Logistic Regression Percentile 0.8528428093645485\n",
      "CV Logistic Regression Percentile 0.7976588628762542\n"
     ]
    }
   ],
   "source": [
    "print('CV Logistic Regression Percentile', logreg_cv_tuned)\n",
    "print('CV Logistic Regression Percentile', logreg_cv_tuned.mean())\n",
    "print('CV Logistic Regression Percentile', logreg_cv_tuned.min())\n",
    "print('CV Logistic Regression Percentile', logreg_cv_tuned.max())\n",
    "print('CV Logistic Regression Percentile', np.median(logreg_cv_tuned))\n",
    "\n",
    "# deviasi selisih 11"
   ]
  },
  {
   "cell_type": "markdown",
   "metadata": {},
   "source": [
    "#### For Decision Tree Classifier"
   ]
  },
  {
   "cell_type": "code",
   "execution_count": 32,
   "metadata": {},
   "outputs": [],
   "source": [
    "dtc_pipe_all_tuned = Pipeline([\n",
    "    ('transformer', transformer),\n",
    "    ('percen', SelectPercentile(percentile=50)),\n",
    "    ('all_dtc', dtc)\n",
    "])"
   ]
  },
  {
   "cell_type": "code",
   "execution_count": 33,
   "metadata": {},
   "outputs": [
    {
     "name": "stderr",
     "output_type": "stream",
     "text": [
      "[Parallel(n_jobs=-1)]: Using backend LokyBackend with 2 concurrent workers.\n",
      "[Parallel(n_jobs=-1)]: Done  50 out of  50 | elapsed:    3.3s finished\n"
     ]
    }
   ],
   "source": [
    "rskf = RepeatedStratifiedKFold(random_state=2020)\n",
    "dtc_cv_tuned = cross_val_score(dtc_pipe_all_tuned, X_train_val, y_train_val, cv = rskf, scoring='recall', verbose = 1, n_jobs = -1)"
   ]
  },
  {
   "cell_type": "code",
   "execution_count": 34,
   "metadata": {},
   "outputs": [
    {
     "name": "stdout",
     "output_type": "stream",
     "text": [
      "CV Decision Tree Classifier Percentile [0.73244147 0.76254181 0.74916388 0.72909699 0.7993311  0.78929766\n",
      " 0.71237458 0.74247492 0.76588629 0.7826087  0.77257525 0.74916388\n",
      " 0.73578595 0.77591973 0.73913043 0.72575251 0.76923077 0.71571906\n",
      " 0.75919732 0.77591973 0.68561873 0.7826087  0.72240803 0.7826087\n",
      " 0.71906355 0.79598662 0.76923077 0.76923077 0.77257525 0.71906355\n",
      " 0.69230769 0.72575251 0.73913043 0.80602007 0.73578595 0.73913043\n",
      " 0.76923077 0.75585284 0.77257525 0.7826087  0.75585284 0.72575251\n",
      " 0.68896321 0.77591973 0.80936455 0.75585284 0.7993311  0.78595318\n",
      " 0.76588629 0.71237458]\n",
      "CV Decision Tree Classifier Percentile 0.7539130434782609\n",
      "CV Decision Tree Classifier Percentile 0.68561872909699\n",
      "CV Decision Tree Classifier Percentile 0.8093645484949833\n",
      "CV Decision Tree Classifier Percentile 0.7575250836120402\n"
     ]
    }
   ],
   "source": [
    "print('CV Decision Tree Classifier Percentile', dtc_cv_tuned)\n",
    "print('CV Decision Tree Classifier Percentile', dtc_cv_tuned.mean())\n",
    "print('CV Decision Tree Classifier Percentile', dtc_cv_tuned.min())\n",
    "print('CV Decision Tree Classifier Percentile', dtc_cv_tuned.max())\n",
    "print('CV Decision Tree Classifier Percentile', np.median(dtc_cv_tuned))\n",
    "\n",
    "# selisih 12"
   ]
  },
  {
   "cell_type": "markdown",
   "metadata": {},
   "source": [
    "#### For Random Forest Classifier"
   ]
  },
  {
   "cell_type": "code",
   "execution_count": 35,
   "metadata": {},
   "outputs": [],
   "source": [
    "rfc_pipe_all_tuned = Pipeline([\n",
    "    ('transformer', transformer),\n",
    "    ('percen', SelectPercentile(percentile=50)),\n",
    "    ('all_rfc', rfc)\n",
    "])"
   ]
  },
  {
   "cell_type": "code",
   "execution_count": 36,
   "metadata": {},
   "outputs": [
    {
     "name": "stderr",
     "output_type": "stream",
     "text": [
      "[Parallel(n_jobs=-1)]: Using backend LokyBackend with 2 concurrent workers.\n",
      "[Parallel(n_jobs=-1)]: Done  46 tasks      | elapsed:   18.3s\n",
      "[Parallel(n_jobs=-1)]: Done  50 out of  50 | elapsed:   20.3s finished\n"
     ]
    }
   ],
   "source": [
    "rskf = RepeatedStratifiedKFold(random_state=2020)\n",
    "rfc_cv_tuned = cross_val_score(rfc_pipe_all_tuned, X_train_val, y_train_val, cv = rskf, scoring='recall', verbose = 1, n_jobs = -1)"
   ]
  },
  {
   "cell_type": "code",
   "execution_count": 37,
   "metadata": {},
   "outputs": [
    {
     "name": "stdout",
     "output_type": "stream",
     "text": [
      "CV Random Forest Classifier Percentile [0.70234114 0.72240803 0.71571906 0.67892977 0.76254181 0.74916388\n",
      " 0.67892977 0.68896321 0.73913043 0.74247492 0.72909699 0.72909699\n",
      " 0.67558528 0.73578595 0.69899666 0.70234114 0.72240803 0.66220736\n",
      " 0.72909699 0.74247492 0.65217391 0.72240803 0.69565217 0.74247492\n",
      " 0.69899666 0.7458194  0.72909699 0.68896321 0.74247492 0.68896321\n",
      " 0.66220736 0.6722408  0.71237458 0.76254181 0.69899666 0.68227425\n",
      " 0.73578595 0.71237458 0.73913043 0.70234114 0.73578595 0.70568562\n",
      " 0.62541806 0.74916388 0.74916388 0.72240803 0.76254181 0.76254181\n",
      " 0.72909699 0.65886288]\n",
      "CV Random Forest Classifier Percentile 0.7139130434782609\n"
     ]
    }
   ],
   "source": [
    "print('CV Random Forest Classifier Percentile', rfc_cv_tuned)\n",
    "print('CV Random Forest Classifier Percentile', rfc_cv_tuned.mean())"
   ]
  },
  {
   "cell_type": "markdown",
   "metadata": {},
   "source": [
    "#### For XGB Classifier"
   ]
  },
  {
   "cell_type": "code",
   "execution_count": 38,
   "metadata": {},
   "outputs": [],
   "source": [
    "xgb_pipe_all_tuned = Pipeline([\n",
    "    ('transformer', transformer),\n",
    "    ('resampling', SMOTE(random_state=2021)),\n",
    "    ('percen', SelectPercentile(percentile=50)),\n",
    "    ('all_xgb', xgb)\n",
    "])"
   ]
  },
  {
   "cell_type": "code",
   "execution_count": 39,
   "metadata": {},
   "outputs": [
    {
     "name": "stderr",
     "output_type": "stream",
     "text": [
      "[Parallel(n_jobs=-1)]: Using backend LokyBackend with 2 concurrent workers.\n",
      "[Parallel(n_jobs=-1)]: Done  46 tasks      | elapsed:   32.5s\n",
      "[Parallel(n_jobs=-1)]: Done  50 out of  50 | elapsed:   34.9s finished\n"
     ]
    }
   ],
   "source": [
    "rskf = RepeatedStratifiedKFold(random_state=2020)\n",
    "xgb_cv_tuned = cross_val_score(xgb_pipe_all_tuned, X_train_val, y_train_val, cv = rskf, scoring='recall', verbose = 1, n_jobs = -1)"
   ]
  },
  {
   "cell_type": "code",
   "execution_count": 40,
   "metadata": {},
   "outputs": [
    {
     "name": "stdout",
     "output_type": "stream",
     "text": [
      "CV XGBoost Classifier Percentile [0.63210702 0.64214047 0.62876254 0.60869565 0.65551839 0.65886288\n",
      " 0.63879599 0.63210702 0.6187291  0.64214047 0.66220736 0.68227425\n",
      " 0.61204013 0.66889632 0.62207358 0.66220736 0.65886288 0.59866221\n",
      " 0.62541806 0.73244147 0.59866221 0.66889632 0.62876254 0.64548495\n",
      " 0.63879599 0.67892977 0.64882943 0.54849498 0.69899666 0.63210702\n",
      " 0.60200669 0.63210702 0.62541806 0.63545151 0.62876254 0.60535117\n",
      " 0.68561873 0.63210702 0.72909699 0.64882943 0.63545151 0.65551839\n",
      " 0.57859532 0.68896321 0.69565217 0.62876254 0.68561873 0.69899666\n",
      " 0.62541806 0.59197324]\n",
      "CV XGBoost Classifier Percentile 0.6436120401337793\n"
     ]
    }
   ],
   "source": [
    "print('CV XGBoost Classifier Percentile', xgb_cv_tuned)\n",
    "print('CV XGBoost Classifier Percentile', xgb_cv_tuned.mean())"
   ]
  },
  {
   "cell_type": "markdown",
   "metadata": {},
   "source": [
    "#### For K Neighbors Classifier"
   ]
  },
  {
   "cell_type": "code",
   "execution_count": 41,
   "metadata": {},
   "outputs": [],
   "source": [
    "knc_pipe_all_tuned = Pipeline([\n",
    "    ('transformer', transformer),\n",
    "    ('resampling', SMOTE(random_state=202)),\n",
    "    ('perce', SelectPercentile(percentile=50)),\n",
    "    ('all_knc', knc)\n",
    "])"
   ]
  },
  {
   "cell_type": "code",
   "execution_count": 42,
   "metadata": {},
   "outputs": [
    {
     "name": "stderr",
     "output_type": "stream",
     "text": [
      "[Parallel(n_jobs=-1)]: Using backend LokyBackend with 2 concurrent workers.\n",
      "[Parallel(n_jobs=-1)]: Done  46 tasks      | elapsed:    7.0s\n",
      "[Parallel(n_jobs=-1)]: Done  50 out of  50 | elapsed:    7.6s finished\n"
     ]
    }
   ],
   "source": [
    "rskf = RepeatedStratifiedKFold(random_state=2020)\n",
    "knc_cv_tuned = cross_val_score(knc_pipe_all_tuned, X_train_val, y_train_val, cv = rskf, scoring='recall', verbose = 1, n_jobs = -1)"
   ]
  },
  {
   "cell_type": "code",
   "execution_count": 43,
   "metadata": {},
   "outputs": [
    {
     "name": "stdout",
     "output_type": "stream",
     "text": [
      "CV K Nearest Classifier Percentile [0.63210702 0.60535117 0.63879599 0.68227425 0.63879599 0.6187291\n",
      " 0.61204013 0.64882943 0.69565217 0.62541806 0.70568562 0.63545151\n",
      " 0.59197324 0.66555184 0.62207358 0.58528428 0.67558528 0.57525084\n",
      " 0.63545151 0.65886288 0.58528428 0.63879599 0.62876254 0.65886288\n",
      " 0.59197324 0.63210702 0.66220736 0.61538462 0.66220736 0.59866221\n",
      " 0.55852843 0.63210702 0.62876254 0.64548495 0.62541806 0.63879599\n",
      " 0.59197324 0.60200669 0.60535117 0.66889632 0.64214047 0.65551839\n",
      " 0.59531773 0.63545151 0.68896321 0.6187291  0.60869565 0.6722408\n",
      " 0.65551839 0.64214047]\n",
      "CV K Nearest Classifier Percentile 0.6327090301003345\n"
     ]
    }
   ],
   "source": [
    "print('CV K Nearest Classifier Percentile', knc_cv_tuned)\n",
    "print('CV K Nearest Classifier Percentile', knc_cv_tuned.mean())"
   ]
  },
  {
   "cell_type": "markdown",
   "metadata": {},
   "source": [
    "### Top 3 Best Tuned Models"
   ]
  },
  {
   "cell_type": "code",
   "execution_count": 44,
   "metadata": {},
   "outputs": [
    {
     "name": "stdout",
     "output_type": "stream",
     "text": [
      "CV Logistic Regression Percentile 0.7990635451505018\n",
      "CV Decision Tree Classifier Percentile 0.7539130434782609\n",
      "CV Random Forest Classifier Percentile 0.7139130434782609\n"
     ]
    }
   ],
   "source": [
    "print('CV Logistic Regression Percentile', logreg_cv_tuned.mean())\n",
    "print('CV Decision Tree Classifier Percentile', dtc_cv_tuned.mean())\n",
    "print('CV Random Forest Classifier Percentile', rfc_cv_tuned.mean())"
   ]
  },
  {
   "cell_type": "markdown",
   "metadata": {},
   "source": [
    "RepeatedStratifiedKFold dan GridSearchCV digunakan untuk mencari nilai paramater yang terbaik. Scoring yang digunakan adalah 'recall'."
   ]
  },
  {
   "cell_type": "markdown",
   "metadata": {},
   "source": [
    "### Logistic Regression"
   ]
  },
  {
   "cell_type": "code",
   "execution_count": 45,
   "metadata": {},
   "outputs": [
    {
     "data": {
      "text/plain": [
       "{'memory': None,\n",
       " 'steps': [('transformer',\n",
       "   ColumnTransformer(remainder='passthrough',\n",
       "                     transformers=[('num',\n",
       "                                    Pipeline(steps=[('scaler', RobustScaler()),\n",
       "                                                    ('pca', PCA(n_components=1))]),\n",
       "                                    ['MonthlyCharges', 'TotalCharges']),\n",
       "                                   ('cat',\n",
       "                                    Pipeline(steps=[('onehot',\n",
       "                                                     OneHotEncoder(drop='first'))]),\n",
       "                                    ['SeniorCitizen', 'Partner', 'Dependents',\n",
       "                                     'MultipleLines', 'InternetService',\n",
       "                                     'OnlineSecurity', 'OnlineBackup',\n",
       "                                     'DeviceProtection', 'TechSupport',\n",
       "                                     'StreamingTV', 'StreamingMovies', 'Contract',\n",
       "                                     'PaperlessBilling', 'PaymentMethod'])])),\n",
       "  ('percen', SelectPercentile(percentile=50)),\n",
       "  ('all_logreg',\n",
       "   LogisticRegression(class_weight='balanced', random_state=2020))],\n",
       " 'verbose': False,\n",
       " 'transformer': ColumnTransformer(remainder='passthrough',\n",
       "                   transformers=[('num',\n",
       "                                  Pipeline(steps=[('scaler', RobustScaler()),\n",
       "                                                  ('pca', PCA(n_components=1))]),\n",
       "                                  ['MonthlyCharges', 'TotalCharges']),\n",
       "                                 ('cat',\n",
       "                                  Pipeline(steps=[('onehot',\n",
       "                                                   OneHotEncoder(drop='first'))]),\n",
       "                                  ['SeniorCitizen', 'Partner', 'Dependents',\n",
       "                                   'MultipleLines', 'InternetService',\n",
       "                                   'OnlineSecurity', 'OnlineBackup',\n",
       "                                   'DeviceProtection', 'TechSupport',\n",
       "                                   'StreamingTV', 'StreamingMovies', 'Contract',\n",
       "                                   'PaperlessBilling', 'PaymentMethod'])]),\n",
       " 'percen': SelectPercentile(percentile=50),\n",
       " 'all_logreg': LogisticRegression(class_weight='balanced', random_state=2020),\n",
       " 'transformer__n_jobs': None,\n",
       " 'transformer__remainder': 'passthrough',\n",
       " 'transformer__sparse_threshold': 0.3,\n",
       " 'transformer__transformer_weights': None,\n",
       " 'transformer__transformers': [('num',\n",
       "   Pipeline(steps=[('scaler', RobustScaler()), ('pca', PCA(n_components=1))]),\n",
       "   ['MonthlyCharges', 'TotalCharges']),\n",
       "  ('cat',\n",
       "   Pipeline(steps=[('onehot', OneHotEncoder(drop='first'))]),\n",
       "   ['SeniorCitizen',\n",
       "    'Partner',\n",
       "    'Dependents',\n",
       "    'MultipleLines',\n",
       "    'InternetService',\n",
       "    'OnlineSecurity',\n",
       "    'OnlineBackup',\n",
       "    'DeviceProtection',\n",
       "    'TechSupport',\n",
       "    'StreamingTV',\n",
       "    'StreamingMovies',\n",
       "    'Contract',\n",
       "    'PaperlessBilling',\n",
       "    'PaymentMethod'])],\n",
       " 'transformer__verbose': False,\n",
       " 'transformer__num': Pipeline(steps=[('scaler', RobustScaler()), ('pca', PCA(n_components=1))]),\n",
       " 'transformer__cat': Pipeline(steps=[('onehot', OneHotEncoder(drop='first'))]),\n",
       " 'transformer__num__memory': None,\n",
       " 'transformer__num__steps': [('scaler', RobustScaler()),\n",
       "  ('pca', PCA(n_components=1))],\n",
       " 'transformer__num__verbose': False,\n",
       " 'transformer__num__scaler': RobustScaler(),\n",
       " 'transformer__num__pca': PCA(n_components=1),\n",
       " 'transformer__num__scaler__copy': True,\n",
       " 'transformer__num__scaler__quantile_range': (25.0, 75.0),\n",
       " 'transformer__num__scaler__with_centering': True,\n",
       " 'transformer__num__scaler__with_scaling': True,\n",
       " 'transformer__num__pca__copy': True,\n",
       " 'transformer__num__pca__iterated_power': 'auto',\n",
       " 'transformer__num__pca__n_components': 1,\n",
       " 'transformer__num__pca__random_state': None,\n",
       " 'transformer__num__pca__svd_solver': 'auto',\n",
       " 'transformer__num__pca__tol': 0.0,\n",
       " 'transformer__num__pca__whiten': False,\n",
       " 'transformer__cat__memory': None,\n",
       " 'transformer__cat__steps': [('onehot', OneHotEncoder(drop='first'))],\n",
       " 'transformer__cat__verbose': False,\n",
       " 'transformer__cat__onehot': OneHotEncoder(drop='first'),\n",
       " 'transformer__cat__onehot__categories': 'auto',\n",
       " 'transformer__cat__onehot__drop': 'first',\n",
       " 'transformer__cat__onehot__dtype': numpy.float64,\n",
       " 'transformer__cat__onehot__handle_unknown': 'error',\n",
       " 'transformer__cat__onehot__sparse': True,\n",
       " 'percen__percentile': 50,\n",
       " 'percen__score_func': <function sklearn.feature_selection._univariate_selection.f_classif(X, y)>,\n",
       " 'all_logreg__C': 1.0,\n",
       " 'all_logreg__class_weight': 'balanced',\n",
       " 'all_logreg__dual': False,\n",
       " 'all_logreg__fit_intercept': True,\n",
       " 'all_logreg__intercept_scaling': 1,\n",
       " 'all_logreg__l1_ratio': None,\n",
       " 'all_logreg__max_iter': 100,\n",
       " 'all_logreg__multi_class': 'auto',\n",
       " 'all_logreg__n_jobs': None,\n",
       " 'all_logreg__penalty': 'l2',\n",
       " 'all_logreg__random_state': 2020,\n",
       " 'all_logreg__solver': 'lbfgs',\n",
       " 'all_logreg__tol': 0.0001,\n",
       " 'all_logreg__verbose': 0,\n",
       " 'all_logreg__warm_start': False}"
      ]
     },
     "execution_count": 45,
     "metadata": {},
     "output_type": "execute_result"
    }
   ],
   "source": [
    "logreg_pipe_all_tuned.get_params()"
   ]
  },
  {
   "cell_type": "code",
   "execution_count": 46,
   "metadata": {},
   "outputs": [
    {
     "name": "stdout",
     "output_type": "stream",
     "text": [
      "Fitting 50 folds for each of 156 candidates, totalling 7800 fits\n"
     ]
    },
    {
     "name": "stderr",
     "output_type": "stream",
     "text": [
      "[Parallel(n_jobs=-1)]: Using backend LokyBackend with 2 concurrent workers.\n",
      "[Parallel(n_jobs=-1)]: Done  88 tasks      | elapsed:    6.9s\n",
      "[Parallel(n_jobs=-1)]: Done 388 tasks      | elapsed:   28.8s\n",
      "[Parallel(n_jobs=-1)]: Done 888 tasks      | elapsed:  1.2min\n",
      "[Parallel(n_jobs=-1)]: Done 1588 tasks      | elapsed:  2.1min\n",
      "[Parallel(n_jobs=-1)]: Done 2488 tasks      | elapsed:  3.3min\n",
      "[Parallel(n_jobs=-1)]: Done 3588 tasks      | elapsed:  4.8min\n",
      "[Parallel(n_jobs=-1)]: Done 4888 tasks      | elapsed:  6.4min\n",
      "[Parallel(n_jobs=-1)]: Done 6388 tasks      | elapsed:  8.2min\n",
      "[Parallel(n_jobs=-1)]: Done 7800 out of 7800 | elapsed:  9.8min finished\n"
     ]
    },
    {
     "data": {
      "text/plain": [
       "GridSearchCV(cv=RepeatedStratifiedKFold(n_repeats=10, n_splits=5, random_state=2020),\n",
       "             estimator=Pipeline(steps=[('transformer',\n",
       "                                        ColumnTransformer(remainder='passthrough',\n",
       "                                                          transformers=[('num',\n",
       "                                                                         Pipeline(steps=[('scaler',\n",
       "                                                                                          RobustScaler()),\n",
       "                                                                                         ('pca',\n",
       "                                                                                          PCA(n_components=1))]),\n",
       "                                                                         ['MonthlyCharges',\n",
       "                                                                          'TotalCharges']),\n",
       "                                                                        ('cat',\n",
       "                                                                         Pipeline(steps=[('onehot',\n",
       "                                                                                          OneHotEncoder(drop='fir...\n",
       "                                                                          'PaperlessBilling',\n",
       "                                                                          'PaymentMethod'])])),\n",
       "                                       ('percen',\n",
       "                                        SelectPercentile(percentile=50)),\n",
       "                                       ('all_logreg',\n",
       "                                        LogisticRegression(class_weight='balanced',\n",
       "                                                           random_state=2020))]),\n",
       "             n_jobs=-1,\n",
       "             param_grid={'all_logreg__C': [1000, 500, 100, 50, 10, 5, 1, 0.5,\n",
       "                                           0.1, 0.05, 0.01, 0.005, 0.001],\n",
       "                         'all_logreg__max_iter': [100, 200, 300, 400, 500,\n",
       "                                                  1000],\n",
       "                         'all_logreg__penalty': ['l1', 'l2']},\n",
       "             scoring='recall', verbose=1)"
      ]
     },
     "execution_count": 46,
     "metadata": {},
     "output_type": "execute_result"
    }
   ],
   "source": [
    "hyperparam_space = {\n",
    "    'all_logreg__C':[1000, 500, 100, 50, 10, 5, 1, 0.5, 0.1, 0.05, 0.01, 0.005, 0.001],\n",
    "    'all_logreg__max_iter':[100, 200, 300, 400, 500, 1000],\n",
    "    'all_logreg__penalty': ['l1', 'l2']\n",
    "}\n",
    "\n",
    "rskf = RepeatedStratifiedKFold(random_state=2020)\n",
    "\n",
    "logreg_gridsearch = GridSearchCV(logreg_pipe_all_tuned, hyperparam_space, scoring='recall', n_jobs=-1, cv=rskf, verbose = 1 )\n",
    "logreg_gridsearch.fit(X_train_val, y_train_val)"
   ]
  },
  {
   "cell_type": "code",
   "execution_count": 47,
   "metadata": {},
   "outputs": [
    {
     "data": {
      "text/plain": [
       "{'all_logreg__C': 500,\n",
       " 'all_logreg__max_iter': 100,\n",
       " 'all_logreg__penalty': 'l2'}"
      ]
     },
     "execution_count": 47,
     "metadata": {},
     "output_type": "execute_result"
    }
   ],
   "source": [
    "logreg_gridsearch.best_params_"
   ]
  },
  {
   "cell_type": "code",
   "execution_count": 48,
   "metadata": {},
   "outputs": [
    {
     "data": {
      "text/plain": [
       "Pipeline(steps=[('transformer',\n",
       "                 ColumnTransformer(remainder='passthrough',\n",
       "                                   transformers=[('num',\n",
       "                                                  Pipeline(steps=[('scaler',\n",
       "                                                                   RobustScaler()),\n",
       "                                                                  ('pca',\n",
       "                                                                   PCA(n_components=1))]),\n",
       "                                                  ['MonthlyCharges',\n",
       "                                                   'TotalCharges']),\n",
       "                                                 ('cat',\n",
       "                                                  Pipeline(steps=[('onehot',\n",
       "                                                                   OneHotEncoder(drop='first'))]),\n",
       "                                                  ['SeniorCitizen', 'Partner',\n",
       "                                                   'Dependents',\n",
       "                                                   'MultipleLines',\n",
       "                                                   'InternetService',\n",
       "                                                   'OnlineSecurity',\n",
       "                                                   'OnlineBackup',\n",
       "                                                   'DeviceProtection',\n",
       "                                                   'TechSupport', 'StreamingTV',\n",
       "                                                   'StreamingMovies',\n",
       "                                                   'Contract',\n",
       "                                                   'PaperlessBilling',\n",
       "                                                   'PaymentMethod'])])),\n",
       "                ('percen', SelectPercentile(percentile=50)),\n",
       "                ('all_logreg',\n",
       "                 LogisticRegression(C=500, class_weight='balanced',\n",
       "                                    random_state=2020))])"
      ]
     },
     "execution_count": 48,
     "metadata": {},
     "output_type": "execute_result"
    }
   ],
   "source": [
    "logreg_gridsearch.best_estimator_"
   ]
  },
  {
   "cell_type": "code",
   "execution_count": 49,
   "metadata": {},
   "outputs": [
    {
     "data": {
      "text/html": [
       "<div>\n",
       "<style scoped>\n",
       "    .dataframe tbody tr th:only-of-type {\n",
       "        vertical-align: middle;\n",
       "    }\n",
       "\n",
       "    .dataframe tbody tr th {\n",
       "        vertical-align: top;\n",
       "    }\n",
       "\n",
       "    .dataframe thead th {\n",
       "        text-align: right;\n",
       "    }\n",
       "</style>\n",
       "<table border=\"1\" class=\"dataframe\">\n",
       "  <thead>\n",
       "    <tr style=\"text-align: right;\">\n",
       "      <th></th>\n",
       "      <th>mean_fit_time</th>\n",
       "      <th>std_fit_time</th>\n",
       "      <th>mean_score_time</th>\n",
       "      <th>std_score_time</th>\n",
       "      <th>param_all_logreg__C</th>\n",
       "      <th>param_all_logreg__max_iter</th>\n",
       "      <th>param_all_logreg__penalty</th>\n",
       "      <th>params</th>\n",
       "      <th>split0_test_score</th>\n",
       "      <th>split1_test_score</th>\n",
       "      <th>split2_test_score</th>\n",
       "      <th>split3_test_score</th>\n",
       "      <th>split4_test_score</th>\n",
       "      <th>split5_test_score</th>\n",
       "      <th>split6_test_score</th>\n",
       "      <th>split7_test_score</th>\n",
       "      <th>split8_test_score</th>\n",
       "      <th>split9_test_score</th>\n",
       "      <th>split10_test_score</th>\n",
       "      <th>split11_test_score</th>\n",
       "      <th>split12_test_score</th>\n",
       "      <th>split13_test_score</th>\n",
       "      <th>split14_test_score</th>\n",
       "      <th>split15_test_score</th>\n",
       "      <th>split16_test_score</th>\n",
       "      <th>split17_test_score</th>\n",
       "      <th>split18_test_score</th>\n",
       "      <th>split19_test_score</th>\n",
       "      <th>split20_test_score</th>\n",
       "      <th>split21_test_score</th>\n",
       "      <th>split22_test_score</th>\n",
       "      <th>split23_test_score</th>\n",
       "      <th>split24_test_score</th>\n",
       "      <th>split25_test_score</th>\n",
       "      <th>split26_test_score</th>\n",
       "      <th>split27_test_score</th>\n",
       "      <th>split28_test_score</th>\n",
       "      <th>split29_test_score</th>\n",
       "      <th>split30_test_score</th>\n",
       "      <th>split31_test_score</th>\n",
       "      <th>split32_test_score</th>\n",
       "      <th>split33_test_score</th>\n",
       "      <th>split34_test_score</th>\n",
       "      <th>split35_test_score</th>\n",
       "      <th>split36_test_score</th>\n",
       "      <th>split37_test_score</th>\n",
       "      <th>split38_test_score</th>\n",
       "      <th>split39_test_score</th>\n",
       "      <th>split40_test_score</th>\n",
       "      <th>split41_test_score</th>\n",
       "      <th>split42_test_score</th>\n",
       "      <th>split43_test_score</th>\n",
       "      <th>split44_test_score</th>\n",
       "      <th>split45_test_score</th>\n",
       "      <th>split46_test_score</th>\n",
       "      <th>split47_test_score</th>\n",
       "      <th>split48_test_score</th>\n",
       "      <th>split49_test_score</th>\n",
       "      <th>mean_test_score</th>\n",
       "      <th>std_test_score</th>\n",
       "      <th>rank_test_score</th>\n",
       "    </tr>\n",
       "  </thead>\n",
       "  <tbody>\n",
       "    <tr>\n",
       "      <th>13</th>\n",
       "      <td>0.182150</td>\n",
       "      <td>0.036286</td>\n",
       "      <td>0.027791</td>\n",
       "      <td>0.012322</td>\n",
       "      <td>500</td>\n",
       "      <td>100</td>\n",
       "      <td>l2</td>\n",
       "      <td>{'all_logreg__C': 500, 'all_logreg__max_iter':...</td>\n",
       "      <td>0.789298</td>\n",
       "      <td>0.782609</td>\n",
       "      <td>0.785953</td>\n",
       "      <td>0.812709</td>\n",
       "      <td>0.819398</td>\n",
       "      <td>0.826087</td>\n",
       "      <td>0.77592</td>\n",
       "      <td>0.795987</td>\n",
       "      <td>0.792642</td>\n",
       "      <td>0.819398</td>\n",
       "      <td>0.819398</td>\n",
       "      <td>0.785953</td>\n",
       "      <td>0.802676</td>\n",
       "      <td>0.832776</td>\n",
       "      <td>0.769231</td>\n",
       "      <td>0.782609</td>\n",
       "      <td>0.785953</td>\n",
       "      <td>0.785953</td>\n",
       "      <td>0.795987</td>\n",
       "      <td>0.832776</td>\n",
       "      <td>0.749164</td>\n",
       "      <td>0.852843</td>\n",
       "      <td>0.795987</td>\n",
       "      <td>0.799331</td>\n",
       "      <td>0.769231</td>\n",
       "      <td>0.809365</td>\n",
       "      <td>0.809365</td>\n",
       "      <td>0.799331</td>\n",
       "      <td>0.812709</td>\n",
       "      <td>0.782609</td>\n",
       "      <td>0.77592</td>\n",
       "      <td>0.80602</td>\n",
       "      <td>0.812709</td>\n",
       "      <td>0.816054</td>\n",
       "      <td>0.785953</td>\n",
       "      <td>0.779264</td>\n",
       "      <td>0.772575</td>\n",
       "      <td>0.799331</td>\n",
       "      <td>0.846154</td>\n",
       "      <td>0.822742</td>\n",
       "      <td>0.792642</td>\n",
       "      <td>0.802676</td>\n",
       "      <td>0.752508</td>\n",
       "      <td>0.839465</td>\n",
       "      <td>0.819398</td>\n",
       "      <td>0.816054</td>\n",
       "      <td>0.789298</td>\n",
       "      <td>0.802676</td>\n",
       "      <td>0.816054</td>\n",
       "      <td>0.782609</td>\n",
       "      <td>0.800067</td>\n",
       "      <td>0.022127</td>\n",
       "      <td>1</td>\n",
       "    </tr>\n",
       "    <tr>\n",
       "      <th>15</th>\n",
       "      <td>0.200704</td>\n",
       "      <td>0.077902</td>\n",
       "      <td>0.030585</td>\n",
       "      <td>0.013879</td>\n",
       "      <td>500</td>\n",
       "      <td>200</td>\n",
       "      <td>l2</td>\n",
       "      <td>{'all_logreg__C': 500, 'all_logreg__max_iter':...</td>\n",
       "      <td>0.789298</td>\n",
       "      <td>0.782609</td>\n",
       "      <td>0.785953</td>\n",
       "      <td>0.812709</td>\n",
       "      <td>0.819398</td>\n",
       "      <td>0.826087</td>\n",
       "      <td>0.77592</td>\n",
       "      <td>0.795987</td>\n",
       "      <td>0.792642</td>\n",
       "      <td>0.819398</td>\n",
       "      <td>0.819398</td>\n",
       "      <td>0.785953</td>\n",
       "      <td>0.802676</td>\n",
       "      <td>0.832776</td>\n",
       "      <td>0.769231</td>\n",
       "      <td>0.782609</td>\n",
       "      <td>0.785953</td>\n",
       "      <td>0.785953</td>\n",
       "      <td>0.795987</td>\n",
       "      <td>0.832776</td>\n",
       "      <td>0.749164</td>\n",
       "      <td>0.852843</td>\n",
       "      <td>0.795987</td>\n",
       "      <td>0.799331</td>\n",
       "      <td>0.769231</td>\n",
       "      <td>0.809365</td>\n",
       "      <td>0.809365</td>\n",
       "      <td>0.799331</td>\n",
       "      <td>0.812709</td>\n",
       "      <td>0.782609</td>\n",
       "      <td>0.77592</td>\n",
       "      <td>0.80602</td>\n",
       "      <td>0.812709</td>\n",
       "      <td>0.816054</td>\n",
       "      <td>0.785953</td>\n",
       "      <td>0.779264</td>\n",
       "      <td>0.772575</td>\n",
       "      <td>0.799331</td>\n",
       "      <td>0.846154</td>\n",
       "      <td>0.822742</td>\n",
       "      <td>0.792642</td>\n",
       "      <td>0.802676</td>\n",
       "      <td>0.752508</td>\n",
       "      <td>0.839465</td>\n",
       "      <td>0.819398</td>\n",
       "      <td>0.816054</td>\n",
       "      <td>0.789298</td>\n",
       "      <td>0.802676</td>\n",
       "      <td>0.816054</td>\n",
       "      <td>0.782609</td>\n",
       "      <td>0.800067</td>\n",
       "      <td>0.022127</td>\n",
       "      <td>1</td>\n",
       "    </tr>\n",
       "    <tr>\n",
       "      <th>17</th>\n",
       "      <td>0.228043</td>\n",
       "      <td>0.048298</td>\n",
       "      <td>0.035135</td>\n",
       "      <td>0.011776</td>\n",
       "      <td>500</td>\n",
       "      <td>300</td>\n",
       "      <td>l2</td>\n",
       "      <td>{'all_logreg__C': 500, 'all_logreg__max_iter':...</td>\n",
       "      <td>0.789298</td>\n",
       "      <td>0.782609</td>\n",
       "      <td>0.785953</td>\n",
       "      <td>0.812709</td>\n",
       "      <td>0.819398</td>\n",
       "      <td>0.826087</td>\n",
       "      <td>0.77592</td>\n",
       "      <td>0.795987</td>\n",
       "      <td>0.792642</td>\n",
       "      <td>0.819398</td>\n",
       "      <td>0.819398</td>\n",
       "      <td>0.785953</td>\n",
       "      <td>0.802676</td>\n",
       "      <td>0.832776</td>\n",
       "      <td>0.769231</td>\n",
       "      <td>0.782609</td>\n",
       "      <td>0.785953</td>\n",
       "      <td>0.785953</td>\n",
       "      <td>0.795987</td>\n",
       "      <td>0.832776</td>\n",
       "      <td>0.749164</td>\n",
       "      <td>0.852843</td>\n",
       "      <td>0.795987</td>\n",
       "      <td>0.799331</td>\n",
       "      <td>0.769231</td>\n",
       "      <td>0.809365</td>\n",
       "      <td>0.809365</td>\n",
       "      <td>0.799331</td>\n",
       "      <td>0.812709</td>\n",
       "      <td>0.782609</td>\n",
       "      <td>0.77592</td>\n",
       "      <td>0.80602</td>\n",
       "      <td>0.812709</td>\n",
       "      <td>0.816054</td>\n",
       "      <td>0.785953</td>\n",
       "      <td>0.779264</td>\n",
       "      <td>0.772575</td>\n",
       "      <td>0.799331</td>\n",
       "      <td>0.846154</td>\n",
       "      <td>0.822742</td>\n",
       "      <td>0.792642</td>\n",
       "      <td>0.802676</td>\n",
       "      <td>0.752508</td>\n",
       "      <td>0.839465</td>\n",
       "      <td>0.819398</td>\n",
       "      <td>0.816054</td>\n",
       "      <td>0.789298</td>\n",
       "      <td>0.802676</td>\n",
       "      <td>0.816054</td>\n",
       "      <td>0.782609</td>\n",
       "      <td>0.800067</td>\n",
       "      <td>0.022127</td>\n",
       "      <td>1</td>\n",
       "    </tr>\n",
       "    <tr>\n",
       "      <th>19</th>\n",
       "      <td>0.172931</td>\n",
       "      <td>0.029290</td>\n",
       "      <td>0.026376</td>\n",
       "      <td>0.006785</td>\n",
       "      <td>500</td>\n",
       "      <td>400</td>\n",
       "      <td>l2</td>\n",
       "      <td>{'all_logreg__C': 500, 'all_logreg__max_iter':...</td>\n",
       "      <td>0.789298</td>\n",
       "      <td>0.782609</td>\n",
       "      <td>0.785953</td>\n",
       "      <td>0.812709</td>\n",
       "      <td>0.819398</td>\n",
       "      <td>0.826087</td>\n",
       "      <td>0.77592</td>\n",
       "      <td>0.795987</td>\n",
       "      <td>0.792642</td>\n",
       "      <td>0.819398</td>\n",
       "      <td>0.819398</td>\n",
       "      <td>0.785953</td>\n",
       "      <td>0.802676</td>\n",
       "      <td>0.832776</td>\n",
       "      <td>0.769231</td>\n",
       "      <td>0.782609</td>\n",
       "      <td>0.785953</td>\n",
       "      <td>0.785953</td>\n",
       "      <td>0.795987</td>\n",
       "      <td>0.832776</td>\n",
       "      <td>0.749164</td>\n",
       "      <td>0.852843</td>\n",
       "      <td>0.795987</td>\n",
       "      <td>0.799331</td>\n",
       "      <td>0.769231</td>\n",
       "      <td>0.809365</td>\n",
       "      <td>0.809365</td>\n",
       "      <td>0.799331</td>\n",
       "      <td>0.812709</td>\n",
       "      <td>0.782609</td>\n",
       "      <td>0.77592</td>\n",
       "      <td>0.80602</td>\n",
       "      <td>0.812709</td>\n",
       "      <td>0.816054</td>\n",
       "      <td>0.785953</td>\n",
       "      <td>0.779264</td>\n",
       "      <td>0.772575</td>\n",
       "      <td>0.799331</td>\n",
       "      <td>0.846154</td>\n",
       "      <td>0.822742</td>\n",
       "      <td>0.792642</td>\n",
       "      <td>0.802676</td>\n",
       "      <td>0.752508</td>\n",
       "      <td>0.839465</td>\n",
       "      <td>0.819398</td>\n",
       "      <td>0.816054</td>\n",
       "      <td>0.789298</td>\n",
       "      <td>0.802676</td>\n",
       "      <td>0.816054</td>\n",
       "      <td>0.782609</td>\n",
       "      <td>0.800067</td>\n",
       "      <td>0.022127</td>\n",
       "      <td>1</td>\n",
       "    </tr>\n",
       "    <tr>\n",
       "      <th>21</th>\n",
       "      <td>0.229308</td>\n",
       "      <td>0.066529</td>\n",
       "      <td>0.037329</td>\n",
       "      <td>0.022372</td>\n",
       "      <td>500</td>\n",
       "      <td>500</td>\n",
       "      <td>l2</td>\n",
       "      <td>{'all_logreg__C': 500, 'all_logreg__max_iter':...</td>\n",
       "      <td>0.789298</td>\n",
       "      <td>0.782609</td>\n",
       "      <td>0.785953</td>\n",
       "      <td>0.812709</td>\n",
       "      <td>0.819398</td>\n",
       "      <td>0.826087</td>\n",
       "      <td>0.77592</td>\n",
       "      <td>0.795987</td>\n",
       "      <td>0.792642</td>\n",
       "      <td>0.819398</td>\n",
       "      <td>0.819398</td>\n",
       "      <td>0.785953</td>\n",
       "      <td>0.802676</td>\n",
       "      <td>0.832776</td>\n",
       "      <td>0.769231</td>\n",
       "      <td>0.782609</td>\n",
       "      <td>0.785953</td>\n",
       "      <td>0.785953</td>\n",
       "      <td>0.795987</td>\n",
       "      <td>0.832776</td>\n",
       "      <td>0.749164</td>\n",
       "      <td>0.852843</td>\n",
       "      <td>0.795987</td>\n",
       "      <td>0.799331</td>\n",
       "      <td>0.769231</td>\n",
       "      <td>0.809365</td>\n",
       "      <td>0.809365</td>\n",
       "      <td>0.799331</td>\n",
       "      <td>0.812709</td>\n",
       "      <td>0.782609</td>\n",
       "      <td>0.77592</td>\n",
       "      <td>0.80602</td>\n",
       "      <td>0.812709</td>\n",
       "      <td>0.816054</td>\n",
       "      <td>0.785953</td>\n",
       "      <td>0.779264</td>\n",
       "      <td>0.772575</td>\n",
       "      <td>0.799331</td>\n",
       "      <td>0.846154</td>\n",
       "      <td>0.822742</td>\n",
       "      <td>0.792642</td>\n",
       "      <td>0.802676</td>\n",
       "      <td>0.752508</td>\n",
       "      <td>0.839465</td>\n",
       "      <td>0.819398</td>\n",
       "      <td>0.816054</td>\n",
       "      <td>0.789298</td>\n",
       "      <td>0.802676</td>\n",
       "      <td>0.816054</td>\n",
       "      <td>0.782609</td>\n",
       "      <td>0.800067</td>\n",
       "      <td>0.022127</td>\n",
       "      <td>1</td>\n",
       "    </tr>\n",
       "  </tbody>\n",
       "</table>\n",
       "</div>"
      ],
      "text/plain": [
       "    mean_fit_time  std_fit_time  mean_score_time  std_score_time  \\\n",
       "13       0.182150      0.036286         0.027791        0.012322   \n",
       "15       0.200704      0.077902         0.030585        0.013879   \n",
       "17       0.228043      0.048298         0.035135        0.011776   \n",
       "19       0.172931      0.029290         0.026376        0.006785   \n",
       "21       0.229308      0.066529         0.037329        0.022372   \n",
       "\n",
       "   param_all_logreg__C param_all_logreg__max_iter param_all_logreg__penalty  \\\n",
       "13                 500                        100                        l2   \n",
       "15                 500                        200                        l2   \n",
       "17                 500                        300                        l2   \n",
       "19                 500                        400                        l2   \n",
       "21                 500                        500                        l2   \n",
       "\n",
       "                                               params  split0_test_score  \\\n",
       "13  {'all_logreg__C': 500, 'all_logreg__max_iter':...           0.789298   \n",
       "15  {'all_logreg__C': 500, 'all_logreg__max_iter':...           0.789298   \n",
       "17  {'all_logreg__C': 500, 'all_logreg__max_iter':...           0.789298   \n",
       "19  {'all_logreg__C': 500, 'all_logreg__max_iter':...           0.789298   \n",
       "21  {'all_logreg__C': 500, 'all_logreg__max_iter':...           0.789298   \n",
       "\n",
       "    split1_test_score  split2_test_score  split3_test_score  \\\n",
       "13           0.782609           0.785953           0.812709   \n",
       "15           0.782609           0.785953           0.812709   \n",
       "17           0.782609           0.785953           0.812709   \n",
       "19           0.782609           0.785953           0.812709   \n",
       "21           0.782609           0.785953           0.812709   \n",
       "\n",
       "    split4_test_score  split5_test_score  split6_test_score  \\\n",
       "13           0.819398           0.826087            0.77592   \n",
       "15           0.819398           0.826087            0.77592   \n",
       "17           0.819398           0.826087            0.77592   \n",
       "19           0.819398           0.826087            0.77592   \n",
       "21           0.819398           0.826087            0.77592   \n",
       "\n",
       "    split7_test_score  split8_test_score  split9_test_score  \\\n",
       "13           0.795987           0.792642           0.819398   \n",
       "15           0.795987           0.792642           0.819398   \n",
       "17           0.795987           0.792642           0.819398   \n",
       "19           0.795987           0.792642           0.819398   \n",
       "21           0.795987           0.792642           0.819398   \n",
       "\n",
       "    split10_test_score  split11_test_score  split12_test_score  \\\n",
       "13            0.819398            0.785953            0.802676   \n",
       "15            0.819398            0.785953            0.802676   \n",
       "17            0.819398            0.785953            0.802676   \n",
       "19            0.819398            0.785953            0.802676   \n",
       "21            0.819398            0.785953            0.802676   \n",
       "\n",
       "    split13_test_score  split14_test_score  split15_test_score  \\\n",
       "13            0.832776            0.769231            0.782609   \n",
       "15            0.832776            0.769231            0.782609   \n",
       "17            0.832776            0.769231            0.782609   \n",
       "19            0.832776            0.769231            0.782609   \n",
       "21            0.832776            0.769231            0.782609   \n",
       "\n",
       "    split16_test_score  split17_test_score  split18_test_score  \\\n",
       "13            0.785953            0.785953            0.795987   \n",
       "15            0.785953            0.785953            0.795987   \n",
       "17            0.785953            0.785953            0.795987   \n",
       "19            0.785953            0.785953            0.795987   \n",
       "21            0.785953            0.785953            0.795987   \n",
       "\n",
       "    split19_test_score  split20_test_score  split21_test_score  \\\n",
       "13            0.832776            0.749164            0.852843   \n",
       "15            0.832776            0.749164            0.852843   \n",
       "17            0.832776            0.749164            0.852843   \n",
       "19            0.832776            0.749164            0.852843   \n",
       "21            0.832776            0.749164            0.852843   \n",
       "\n",
       "    split22_test_score  split23_test_score  split24_test_score  \\\n",
       "13            0.795987            0.799331            0.769231   \n",
       "15            0.795987            0.799331            0.769231   \n",
       "17            0.795987            0.799331            0.769231   \n",
       "19            0.795987            0.799331            0.769231   \n",
       "21            0.795987            0.799331            0.769231   \n",
       "\n",
       "    split25_test_score  split26_test_score  split27_test_score  \\\n",
       "13            0.809365            0.809365            0.799331   \n",
       "15            0.809365            0.809365            0.799331   \n",
       "17            0.809365            0.809365            0.799331   \n",
       "19            0.809365            0.809365            0.799331   \n",
       "21            0.809365            0.809365            0.799331   \n",
       "\n",
       "    split28_test_score  split29_test_score  split30_test_score  \\\n",
       "13            0.812709            0.782609             0.77592   \n",
       "15            0.812709            0.782609             0.77592   \n",
       "17            0.812709            0.782609             0.77592   \n",
       "19            0.812709            0.782609             0.77592   \n",
       "21            0.812709            0.782609             0.77592   \n",
       "\n",
       "    split31_test_score  split32_test_score  split33_test_score  \\\n",
       "13             0.80602            0.812709            0.816054   \n",
       "15             0.80602            0.812709            0.816054   \n",
       "17             0.80602            0.812709            0.816054   \n",
       "19             0.80602            0.812709            0.816054   \n",
       "21             0.80602            0.812709            0.816054   \n",
       "\n",
       "    split34_test_score  split35_test_score  split36_test_score  \\\n",
       "13            0.785953            0.779264            0.772575   \n",
       "15            0.785953            0.779264            0.772575   \n",
       "17            0.785953            0.779264            0.772575   \n",
       "19            0.785953            0.779264            0.772575   \n",
       "21            0.785953            0.779264            0.772575   \n",
       "\n",
       "    split37_test_score  split38_test_score  split39_test_score  \\\n",
       "13            0.799331            0.846154            0.822742   \n",
       "15            0.799331            0.846154            0.822742   \n",
       "17            0.799331            0.846154            0.822742   \n",
       "19            0.799331            0.846154            0.822742   \n",
       "21            0.799331            0.846154            0.822742   \n",
       "\n",
       "    split40_test_score  split41_test_score  split42_test_score  \\\n",
       "13            0.792642            0.802676            0.752508   \n",
       "15            0.792642            0.802676            0.752508   \n",
       "17            0.792642            0.802676            0.752508   \n",
       "19            0.792642            0.802676            0.752508   \n",
       "21            0.792642            0.802676            0.752508   \n",
       "\n",
       "    split43_test_score  split44_test_score  split45_test_score  \\\n",
       "13            0.839465            0.819398            0.816054   \n",
       "15            0.839465            0.819398            0.816054   \n",
       "17            0.839465            0.819398            0.816054   \n",
       "19            0.839465            0.819398            0.816054   \n",
       "21            0.839465            0.819398            0.816054   \n",
       "\n",
       "    split46_test_score  split47_test_score  split48_test_score  \\\n",
       "13            0.789298            0.802676            0.816054   \n",
       "15            0.789298            0.802676            0.816054   \n",
       "17            0.789298            0.802676            0.816054   \n",
       "19            0.789298            0.802676            0.816054   \n",
       "21            0.789298            0.802676            0.816054   \n",
       "\n",
       "    split49_test_score  mean_test_score  std_test_score  rank_test_score  \n",
       "13            0.782609         0.800067        0.022127                1  \n",
       "15            0.782609         0.800067        0.022127                1  \n",
       "17            0.782609         0.800067        0.022127                1  \n",
       "19            0.782609         0.800067        0.022127                1  \n",
       "21            0.782609         0.800067        0.022127                1  "
      ]
     },
     "execution_count": 49,
     "metadata": {},
     "output_type": "execute_result"
    }
   ],
   "source": [
    "cv_res_df = pd.DataFrame(logreg_gridsearch.cv_results_)\n",
    "cv_res_df[cv_res_df['rank_test_score'] == 1].head()"
   ]
  },
  {
   "cell_type": "code",
   "execution_count": 50,
   "metadata": {},
   "outputs": [],
   "source": [
    "logreg_default = logreg_pipe_all.fit(X_train_val, y_train_val)\n",
    "y_pred_logreg = logreg_default.predict(X_test) "
   ]
  },
  {
   "cell_type": "code",
   "execution_count": 51,
   "metadata": {},
   "outputs": [
    {
     "name": "stdout",
     "output_type": "stream",
     "text": [
      "              precision    recall  f1-score   support\n",
      "\n",
      "           0       0.89      0.71      0.79      1035\n",
      "           1       0.49      0.77      0.60       374\n",
      "\n",
      "    accuracy                           0.72      1409\n",
      "   macro avg       0.69      0.74      0.69      1409\n",
      "weighted avg       0.79      0.72      0.74      1409\n",
      "\n"
     ]
    }
   ],
   "source": [
    "print(classification_report(y_test, y_pred_logreg))"
   ]
  },
  {
   "cell_type": "code",
   "execution_count": 52,
   "metadata": {},
   "outputs": [
    {
     "data": {
      "image/png": "[encoded data removed]",
      "text/plain": [
       "<Figure size 432x288 with 2 Axes>"
      ]
     },
     "metadata": {
      "needs_background": "light"
     },
     "output_type": "display_data"
    }
   ],
   "source": [
    "logreg_confusion_matrix = metrics.confusion_matrix(y_test, y_pred_logreg)\n",
    "sns.heatmap(logreg_confusion_matrix, annot=True, fmt=\"d\", cmap=\"magma\")\n",
    "\n",
    "plt.xlabel(\"Predicted Label\", fontsize= 12)\n",
    "plt.ylabel(\"True Label\", fontsize= 12)\n",
    "\n",
    "plt.show()"
   ]
  },
  {
   "cell_type": "code",
   "execution_count": 53,
   "metadata": {},
   "outputs": [
    {
     "name": "stdout",
     "output_type": "stream",
     "text": [
      "Pelanggan yang diprediksi tidak berhenti tapi ternyata berhenti : 10.65 %\n",
      "Pelanggan yang diprediksi berhenti tapi ternyata tidak : 50.94 %\n"
     ]
    }
   ],
   "source": [
    "print(\"Pelanggan yang diprediksi tidak berhenti tapi ternyata berhenti :\", round(88/(738+88)*100,2),\"%\")\n",
    "print(\"Pelanggan yang diprediksi berhenti tapi ternyata tidak :\", round(297/(286+297)*100,2),\"%\")"
   ]
  },
  {
   "cell_type": "code",
   "execution_count": 54,
   "metadata": {},
   "outputs": [],
   "source": [
    "logreg_tuned = logreg_gridsearch.best_estimator_.fit(X_train_val, y_train_val)\n",
    "y_pred_logreg_tuned = logreg_tuned.predict(X_test)"
   ]
  },
  {
   "cell_type": "code",
   "execution_count": 55,
   "metadata": {},
   "outputs": [
    {
     "name": "stdout",
     "output_type": "stream",
     "text": [
      "              precision    recall  f1-score   support\n",
      "\n",
      "           0       0.90      0.69      0.78      1035\n",
      "           1       0.48      0.79      0.60       374\n",
      "\n",
      "    accuracy                           0.72      1409\n",
      "   macro avg       0.69      0.74      0.69      1409\n",
      "weighted avg       0.79      0.72      0.73      1409\n",
      "\n"
     ]
    }
   ],
   "source": [
    "print(classification_report(y_test, y_pred_logreg_tuned))"
   ]
  },
  {
   "cell_type": "code",
   "execution_count": 56,
   "metadata": {},
   "outputs": [
    {
     "data": {
      "image/png": "[encoded data removed]",
      "text/plain": [
       "<Figure size 432x288 with 2 Axes>"
      ]
     },
     "metadata": {
      "needs_background": "light"
     },
     "output_type": "display_data"
    }
   ],
   "source": [
    "logreg_tuned_confusion_matrix = metrics.confusion_matrix(y_test, y_pred_logreg_tuned)\n",
    "sns.heatmap(logreg_tuned_confusion_matrix, annot=True, fmt=\"d\")\n",
    "\n",
    "plt.xlabel(\"Predicted Label\", fontsize= 12)\n",
    "plt.ylabel(\"True Label\", fontsize= 12)\n",
    "\n",
    "plt.show()"
   ]
  },
  {
   "cell_type": "code",
   "execution_count": 57,
   "metadata": {},
   "outputs": [
    {
     "name": "stdout",
     "output_type": "stream",
     "text": [
      "Pelanggan yang diprediksi tidak berhenti tapi ternyata berhenti : 9.81 %\n",
      "Pelanggan yang diprediksi berhenti tapi ternyata tidak : 51.79 %\n"
     ]
    }
   ],
   "source": [
    "print(\"Pelanggan yang diprediksi tidak berhenti tapi ternyata berhenti :\", round(78/(717+78)*100,2),\"%\")\n",
    "print(\"Pelanggan yang diprediksi berhenti tapi ternyata tidak :\", round(318/(296+318)*100,2),\"%\")"
   ]
  },
  {
   "cell_type": "code",
   "execution_count": 58,
   "metadata": {},
   "outputs": [
    {
     "data": {
      "text/plain": [
       "<sklearn.metrics._plot.precision_recall_curve.PrecisionRecallDisplay at 0x2126389c550>"
      ]
     },
     "execution_count": 58,
     "metadata": {},
     "output_type": "execute_result"
    },
    {
     "data": {
      "image/png": "[encoded data removed]",
      "text/plain": [
       "<Figure size 432x288 with 1 Axes>"
      ]
     },
     "metadata": {
      "needs_background": "light"
     },
     "output_type": "display_data"
    }
   ],
   "source": [
    "plot_precision_recall_curve(logreg_tuned, X_test, y_test)"
   ]
  },
  {
   "cell_type": "markdown",
   "metadata": {},
   "source": [
    "### Decision Tree"
   ]
  },
  {
   "cell_type": "code",
   "execution_count": 59,
   "metadata": {},
   "outputs": [
    {
     "data": {
      "text/plain": [
       "{'memory': None,\n",
       " 'steps': [('transformer',\n",
       "   ColumnTransformer(remainder='passthrough',\n",
       "                     transformers=[('num',\n",
       "                                    Pipeline(steps=[('scaler', RobustScaler()),\n",
       "                                                    ('pca', PCA(n_components=1))]),\n",
       "                                    ['MonthlyCharges', 'TotalCharges']),\n",
       "                                   ('cat',\n",
       "                                    Pipeline(steps=[('onehot',\n",
       "                                                     OneHotEncoder(drop='first'))]),\n",
       "                                    ['SeniorCitizen', 'Partner', 'Dependents',\n",
       "                                     'MultipleLines', 'InternetService',\n",
       "                                     'OnlineSecurity', 'OnlineBackup',\n",
       "                                     'DeviceProtection', 'TechSupport',\n",
       "                                     'StreamingTV', 'StreamingMovies', 'Contract',\n",
       "                                     'PaperlessBilling', 'PaymentMethod'])])),\n",
       "  ('percen', SelectPercentile(percentile=50)),\n",
       "  ('all_dtc',\n",
       "   DecisionTreeClassifier(class_weight='balanced', random_state=2020))],\n",
       " 'verbose': False,\n",
       " 'transformer': ColumnTransformer(remainder='passthrough',\n",
       "                   transformers=[('num',\n",
       "                                  Pipeline(steps=[('scaler', RobustScaler()),\n",
       "                                                  ('pca', PCA(n_components=1))]),\n",
       "                                  ['MonthlyCharges', 'TotalCharges']),\n",
       "                                 ('cat',\n",
       "                                  Pipeline(steps=[('onehot',\n",
       "                                                   OneHotEncoder(drop='first'))]),\n",
       "                                  ['SeniorCitizen', 'Partner', 'Dependents',\n",
       "                                   'MultipleLines', 'InternetService',\n",
       "                                   'OnlineSecurity', 'OnlineBackup',\n",
       "                                   'DeviceProtection', 'TechSupport',\n",
       "                                   'StreamingTV', 'StreamingMovies', 'Contract',\n",
       "                                   'PaperlessBilling', 'PaymentMethod'])]),\n",
       " 'percen': SelectPercentile(percentile=50),\n",
       " 'all_dtc': DecisionTreeClassifier(class_weight='balanced', random_state=2020),\n",
       " 'transformer__n_jobs': None,\n",
       " 'transformer__remainder': 'passthrough',\n",
       " 'transformer__sparse_threshold': 0.3,\n",
       " 'transformer__transformer_weights': None,\n",
       " 'transformer__transformers': [('num',\n",
       "   Pipeline(steps=[('scaler', RobustScaler()), ('pca', PCA(n_components=1))]),\n",
       "   ['MonthlyCharges', 'TotalCharges']),\n",
       "  ('cat',\n",
       "   Pipeline(steps=[('onehot', OneHotEncoder(drop='first'))]),\n",
       "   ['SeniorCitizen',\n",
       "    'Partner',\n",
       "    'Dependents',\n",
       "    'MultipleLines',\n",
       "    'InternetService',\n",
       "    'OnlineSecurity',\n",
       "    'OnlineBackup',\n",
       "    'DeviceProtection',\n",
       "    'TechSupport',\n",
       "    'StreamingTV',\n",
       "    'StreamingMovies',\n",
       "    'Contract',\n",
       "    'PaperlessBilling',\n",
       "    'PaymentMethod'])],\n",
       " 'transformer__verbose': False,\n",
       " 'transformer__num': Pipeline(steps=[('scaler', RobustScaler()), ('pca', PCA(n_components=1))]),\n",
       " 'transformer__cat': Pipeline(steps=[('onehot', OneHotEncoder(drop='first'))]),\n",
       " 'transformer__num__memory': None,\n",
       " 'transformer__num__steps': [('scaler', RobustScaler()),\n",
       "  ('pca', PCA(n_components=1))],\n",
       " 'transformer__num__verbose': False,\n",
       " 'transformer__num__scaler': RobustScaler(),\n",
       " 'transformer__num__pca': PCA(n_components=1),\n",
       " 'transformer__num__scaler__copy': True,\n",
       " 'transformer__num__scaler__quantile_range': (25.0, 75.0),\n",
       " 'transformer__num__scaler__with_centering': True,\n",
       " 'transformer__num__scaler__with_scaling': True,\n",
       " 'transformer__num__pca__copy': True,\n",
       " 'transformer__num__pca__iterated_power': 'auto',\n",
       " 'transformer__num__pca__n_components': 1,\n",
       " 'transformer__num__pca__random_state': None,\n",
       " 'transformer__num__pca__svd_solver': 'auto',\n",
       " 'transformer__num__pca__tol': 0.0,\n",
       " 'transformer__num__pca__whiten': False,\n",
       " 'transformer__cat__memory': None,\n",
       " 'transformer__cat__steps': [('onehot', OneHotEncoder(drop='first'))],\n",
       " 'transformer__cat__verbose': False,\n",
       " 'transformer__cat__onehot': OneHotEncoder(drop='first'),\n",
       " 'transformer__cat__onehot__categories': 'auto',\n",
       " 'transformer__cat__onehot__drop': 'first',\n",
       " 'transformer__cat__onehot__dtype': numpy.float64,\n",
       " 'transformer__cat__onehot__handle_unknown': 'error',\n",
       " 'transformer__cat__onehot__sparse': True,\n",
       " 'percen__percentile': 50,\n",
       " 'percen__score_func': <function sklearn.feature_selection._univariate_selection.f_classif(X, y)>,\n",
       " 'all_dtc__ccp_alpha': 0.0,\n",
       " 'all_dtc__class_weight': 'balanced',\n",
       " 'all_dtc__criterion': 'gini',\n",
       " 'all_dtc__max_depth': None,\n",
       " 'all_dtc__max_features': None,\n",
       " 'all_dtc__max_leaf_nodes': None,\n",
       " 'all_dtc__min_impurity_decrease': 0.0,\n",
       " 'all_dtc__min_impurity_split': None,\n",
       " 'all_dtc__min_samples_leaf': 1,\n",
       " 'all_dtc__min_samples_split': 2,\n",
       " 'all_dtc__min_weight_fraction_leaf': 0.0,\n",
       " 'all_dtc__presort': 'deprecated',\n",
       " 'all_dtc__random_state': 2020,\n",
       " 'all_dtc__splitter': 'best'}"
      ]
     },
     "execution_count": 59,
     "metadata": {},
     "output_type": "execute_result"
    }
   ],
   "source": [
    "dtc_pipe_all_tuned.get_params()"
   ]
  },
  {
   "cell_type": "code",
   "execution_count": 60,
   "metadata": {},
   "outputs": [
    {
     "name": "stdout",
     "output_type": "stream",
     "text": [
      "Fitting 50 folds for each of 84 candidates, totalling 4200 fits\n"
     ]
    },
    {
     "name": "stderr",
     "output_type": "stream",
     "text": [
      "[Parallel(n_jobs=-1)]: Using backend LokyBackend with 2 concurrent workers.\n",
      "[Parallel(n_jobs=-1)]: Done  88 tasks      | elapsed:    5.6s\n",
      "[Parallel(n_jobs=-1)]: Done 388 tasks      | elapsed:   23.4s\n",
      "[Parallel(n_jobs=-1)]: Done 888 tasks      | elapsed:   54.0s\n",
      "[Parallel(n_jobs=-1)]: Done 1588 tasks      | elapsed:  1.6min\n",
      "[Parallel(n_jobs=-1)]: Done 2488 tasks      | elapsed:  2.6min\n",
      "[Parallel(n_jobs=-1)]: Done 3588 tasks      | elapsed:  3.7min\n",
      "[Parallel(n_jobs=-1)]: Done 4200 out of 4200 | elapsed:  4.4min finished\n"
     ]
    },
    {
     "data": {
      "text/plain": [
       "GridSearchCV(cv=RepeatedStratifiedKFold(n_repeats=10, n_splits=5, random_state=2020),\n",
       "             estimator=Pipeline(steps=[('transformer',\n",
       "                                        ColumnTransformer(remainder='passthrough',\n",
       "                                                          transformers=[('num',\n",
       "                                                                         Pipeline(steps=[('scaler',\n",
       "                                                                                          RobustScaler()),\n",
       "                                                                                         ('pca',\n",
       "                                                                                          PCA(n_components=1))]),\n",
       "                                                                         ['MonthlyCharges',\n",
       "                                                                          'TotalCharges']),\n",
       "                                                                        ('cat',\n",
       "                                                                         Pipeline(steps=[('onehot',\n",
       "                                                                                          OneHotEncoder(drop='fir...\n",
       "                                                                          'StreamingMovies',\n",
       "                                                                          'Contract',\n",
       "                                                                          'PaperlessBilling',\n",
       "                                                                          'PaymentMethod'])])),\n",
       "                                       ('percen',\n",
       "                                        SelectPercentile(percentile=50)),\n",
       "                                       ('all_dtc',\n",
       "                                        DecisionTreeClassifier(class_weight='balanced',\n",
       "                                                               random_state=2020))]),\n",
       "             n_jobs=-1,\n",
       "             param_grid={'all_dtc__criterion': ['entropy', 'gini'],\n",
       "                         'all_dtc__max_depth': [2, 3, 4, 5, 6, 7],\n",
       "                         'all_dtc__min_samples_split': [4, 5, 6, 7, 8, 9, 10]},\n",
       "             scoring='recall', verbose=1)"
      ]
     },
     "execution_count": 60,
     "metadata": {},
     "output_type": "execute_result"
    }
   ],
   "source": [
    "hyperparam_space = {\n",
    "    'all_dtc__min_samples_split': [4,5,6,7,8,9,10],\n",
    "    'all_dtc__max_depth': [2,3,4,5,6,7],\n",
    "    'all_dtc__criterion': ['entropy', 'gini']  \n",
    "}\n",
    "\n",
    "rskf = RepeatedStratifiedKFold(random_state=2020)\n",
    "\n",
    "dtc_gridsearch = GridSearchCV(dtc_pipe_all_tuned, hyperparam_space, scoring='recall', n_jobs=-1, cv=rskf, verbose = 1)\n",
    "dtc_gridsearch.fit(X_train_val, y_train_val)"
   ]
  },
  {
   "cell_type": "code",
   "execution_count": 61,
   "metadata": {},
   "outputs": [
    {
     "data": {
      "text/plain": [
       "{'all_dtc__criterion': 'entropy',\n",
       " 'all_dtc__max_depth': 3,\n",
       " 'all_dtc__min_samples_split': 4}"
      ]
     },
     "execution_count": 61,
     "metadata": {},
     "output_type": "execute_result"
    }
   ],
   "source": [
    "dtc_gridsearch.best_params_"
   ]
  },
  {
   "cell_type": "code",
   "execution_count": 62,
   "metadata": {},
   "outputs": [
    {
     "data": {
      "text/plain": [
       "Pipeline(steps=[('transformer',\n",
       "                 ColumnTransformer(remainder='passthrough',\n",
       "                                   transformers=[('num',\n",
       "                                                  Pipeline(steps=[('scaler',\n",
       "                                                                   RobustScaler()),\n",
       "                                                                  ('pca',\n",
       "                                                                   PCA(n_components=1))]),\n",
       "                                                  ['MonthlyCharges',\n",
       "                                                   'TotalCharges']),\n",
       "                                                 ('cat',\n",
       "                                                  Pipeline(steps=[('onehot',\n",
       "                                                                   OneHotEncoder(drop='first'))]),\n",
       "                                                  ['SeniorCitizen', 'Partner',\n",
       "                                                   'Dependents',\n",
       "                                                   'MultipleLines',\n",
       "                                                   'InternetService',\n",
       "                                                   'OnlineSecurity',\n",
       "                                                   'OnlineBackup',\n",
       "                                                   'DeviceProtection',\n",
       "                                                   'TechSupport', 'StreamingTV',\n",
       "                                                   'StreamingMovies',\n",
       "                                                   'Contract',\n",
       "                                                   'PaperlessBilling',\n",
       "                                                   'PaymentMethod'])])),\n",
       "                ('percen', SelectPercentile(percentile=50)),\n",
       "                ('all_dtc',\n",
       "                 DecisionTreeClassifier(class_weight='balanced',\n",
       "                                        criterion='entropy', max_depth=3,\n",
       "                                        min_samples_split=4,\n",
       "                                        random_state=2020))])"
      ]
     },
     "execution_count": 62,
     "metadata": {},
     "output_type": "execute_result"
    }
   ],
   "source": [
    "dtc_gridsearch.best_estimator_"
   ]
  },
  {
   "cell_type": "code",
   "execution_count": 63,
   "metadata": {},
   "outputs": [
    {
     "data": {
      "text/html": [
       "<div>\n",
       "<style scoped>\n",
       "    .dataframe tbody tr th:only-of-type {\n",
       "        vertical-align: middle;\n",
       "    }\n",
       "\n",
       "    .dataframe tbody tr th {\n",
       "        vertical-align: top;\n",
       "    }\n",
       "\n",
       "    .dataframe thead th {\n",
       "        text-align: right;\n",
       "    }\n",
       "</style>\n",
       "<table border=\"1\" class=\"dataframe\">\n",
       "  <thead>\n",
       "    <tr style=\"text-align: right;\">\n",
       "      <th></th>\n",
       "      <th>mean_fit_time</th>\n",
       "      <th>std_fit_time</th>\n",
       "      <th>mean_score_time</th>\n",
       "      <th>std_score_time</th>\n",
       "      <th>param_all_dtc__criterion</th>\n",
       "      <th>param_all_dtc__max_depth</th>\n",
       "      <th>param_all_dtc__min_samples_split</th>\n",
       "      <th>params</th>\n",
       "      <th>split0_test_score</th>\n",
       "      <th>split1_test_score</th>\n",
       "      <th>split2_test_score</th>\n",
       "      <th>split3_test_score</th>\n",
       "      <th>split4_test_score</th>\n",
       "      <th>split5_test_score</th>\n",
       "      <th>split6_test_score</th>\n",
       "      <th>split7_test_score</th>\n",
       "      <th>split8_test_score</th>\n",
       "      <th>split9_test_score</th>\n",
       "      <th>split10_test_score</th>\n",
       "      <th>split11_test_score</th>\n",
       "      <th>split12_test_score</th>\n",
       "      <th>split13_test_score</th>\n",
       "      <th>split14_test_score</th>\n",
       "      <th>split15_test_score</th>\n",
       "      <th>split16_test_score</th>\n",
       "      <th>split17_test_score</th>\n",
       "      <th>split18_test_score</th>\n",
       "      <th>split19_test_score</th>\n",
       "      <th>split20_test_score</th>\n",
       "      <th>split21_test_score</th>\n",
       "      <th>split22_test_score</th>\n",
       "      <th>split23_test_score</th>\n",
       "      <th>split24_test_score</th>\n",
       "      <th>split25_test_score</th>\n",
       "      <th>split26_test_score</th>\n",
       "      <th>split27_test_score</th>\n",
       "      <th>split28_test_score</th>\n",
       "      <th>split29_test_score</th>\n",
       "      <th>split30_test_score</th>\n",
       "      <th>split31_test_score</th>\n",
       "      <th>split32_test_score</th>\n",
       "      <th>split33_test_score</th>\n",
       "      <th>split34_test_score</th>\n",
       "      <th>split35_test_score</th>\n",
       "      <th>split36_test_score</th>\n",
       "      <th>split37_test_score</th>\n",
       "      <th>split38_test_score</th>\n",
       "      <th>split39_test_score</th>\n",
       "      <th>split40_test_score</th>\n",
       "      <th>split41_test_score</th>\n",
       "      <th>split42_test_score</th>\n",
       "      <th>split43_test_score</th>\n",
       "      <th>split44_test_score</th>\n",
       "      <th>split45_test_score</th>\n",
       "      <th>split46_test_score</th>\n",
       "      <th>split47_test_score</th>\n",
       "      <th>split48_test_score</th>\n",
       "      <th>split49_test_score</th>\n",
       "      <th>mean_test_score</th>\n",
       "      <th>std_test_score</th>\n",
       "      <th>rank_test_score</th>\n",
       "    </tr>\n",
       "  </thead>\n",
       "  <tbody>\n",
       "    <tr>\n",
       "      <th>7</th>\n",
       "      <td>0.088563</td>\n",
       "      <td>0.017830</td>\n",
       "      <td>0.025175</td>\n",
       "      <td>0.006260</td>\n",
       "      <td>entropy</td>\n",
       "      <td>3</td>\n",
       "      <td>4</td>\n",
       "      <td>{'all_dtc__criterion': 'entropy', 'all_dtc__ma...</td>\n",
       "      <td>0.87291</td>\n",
       "      <td>0.909699</td>\n",
       "      <td>0.87291</td>\n",
       "      <td>0.889632</td>\n",
       "      <td>0.923077</td>\n",
       "      <td>0.916388</td>\n",
       "      <td>0.862876</td>\n",
       "      <td>0.882943</td>\n",
       "      <td>0.896321</td>\n",
       "      <td>0.909699</td>\n",
       "      <td>0.889632</td>\n",
       "      <td>0.866221</td>\n",
       "      <td>0.892977</td>\n",
       "      <td>0.919732</td>\n",
       "      <td>0.899666</td>\n",
       "      <td>0.876254</td>\n",
       "      <td>0.886288</td>\n",
       "      <td>0.862876</td>\n",
       "      <td>0.882943</td>\n",
       "      <td>0.923077</td>\n",
       "      <td>0.849498</td>\n",
       "      <td>0.913043</td>\n",
       "      <td>0.886288</td>\n",
       "      <td>0.909699</td>\n",
       "      <td>0.856187</td>\n",
       "      <td>0.899666</td>\n",
       "      <td>0.913043</td>\n",
       "      <td>0.896321</td>\n",
       "      <td>0.892977</td>\n",
       "      <td>0.866221</td>\n",
       "      <td>0.876254</td>\n",
       "      <td>0.892977</td>\n",
       "      <td>0.923077</td>\n",
       "      <td>0.90301</td>\n",
       "      <td>0.866221</td>\n",
       "      <td>0.846154</td>\n",
       "      <td>0.869565</td>\n",
       "      <td>0.916388</td>\n",
       "      <td>0.929766</td>\n",
       "      <td>0.906355</td>\n",
       "      <td>0.876254</td>\n",
       "      <td>0.886288</td>\n",
       "      <td>0.879599</td>\n",
       "      <td>0.919732</td>\n",
       "      <td>0.906355</td>\n",
       "      <td>0.899666</td>\n",
       "      <td>0.90301</td>\n",
       "      <td>0.889632</td>\n",
       "      <td>0.896321</td>\n",
       "      <td>0.879599</td>\n",
       "      <td>0.891706</td>\n",
       "      <td>0.020594</td>\n",
       "      <td>1</td>\n",
       "    </tr>\n",
       "    <tr>\n",
       "      <th>8</th>\n",
       "      <td>0.078880</td>\n",
       "      <td>0.009074</td>\n",
       "      <td>0.025128</td>\n",
       "      <td>0.004524</td>\n",
       "      <td>entropy</td>\n",
       "      <td>3</td>\n",
       "      <td>5</td>\n",
       "      <td>{'all_dtc__criterion': 'entropy', 'all_dtc__ma...</td>\n",
       "      <td>0.87291</td>\n",
       "      <td>0.909699</td>\n",
       "      <td>0.87291</td>\n",
       "      <td>0.889632</td>\n",
       "      <td>0.923077</td>\n",
       "      <td>0.916388</td>\n",
       "      <td>0.862876</td>\n",
       "      <td>0.882943</td>\n",
       "      <td>0.896321</td>\n",
       "      <td>0.909699</td>\n",
       "      <td>0.889632</td>\n",
       "      <td>0.866221</td>\n",
       "      <td>0.892977</td>\n",
       "      <td>0.919732</td>\n",
       "      <td>0.899666</td>\n",
       "      <td>0.876254</td>\n",
       "      <td>0.886288</td>\n",
       "      <td>0.862876</td>\n",
       "      <td>0.882943</td>\n",
       "      <td>0.923077</td>\n",
       "      <td>0.849498</td>\n",
       "      <td>0.913043</td>\n",
       "      <td>0.886288</td>\n",
       "      <td>0.909699</td>\n",
       "      <td>0.856187</td>\n",
       "      <td>0.899666</td>\n",
       "      <td>0.913043</td>\n",
       "      <td>0.896321</td>\n",
       "      <td>0.892977</td>\n",
       "      <td>0.866221</td>\n",
       "      <td>0.876254</td>\n",
       "      <td>0.892977</td>\n",
       "      <td>0.923077</td>\n",
       "      <td>0.90301</td>\n",
       "      <td>0.866221</td>\n",
       "      <td>0.846154</td>\n",
       "      <td>0.869565</td>\n",
       "      <td>0.916388</td>\n",
       "      <td>0.929766</td>\n",
       "      <td>0.906355</td>\n",
       "      <td>0.876254</td>\n",
       "      <td>0.886288</td>\n",
       "      <td>0.879599</td>\n",
       "      <td>0.919732</td>\n",
       "      <td>0.906355</td>\n",
       "      <td>0.899666</td>\n",
       "      <td>0.90301</td>\n",
       "      <td>0.889632</td>\n",
       "      <td>0.896321</td>\n",
       "      <td>0.879599</td>\n",
       "      <td>0.891706</td>\n",
       "      <td>0.020594</td>\n",
       "      <td>1</td>\n",
       "    </tr>\n",
       "    <tr>\n",
       "      <th>9</th>\n",
       "      <td>0.084223</td>\n",
       "      <td>0.012787</td>\n",
       "      <td>0.025156</td>\n",
       "      <td>0.004603</td>\n",
       "      <td>entropy</td>\n",
       "      <td>3</td>\n",
       "      <td>6</td>\n",
       "      <td>{'all_dtc__criterion': 'entropy', 'all_dtc__ma...</td>\n",
       "      <td>0.87291</td>\n",
       "      <td>0.909699</td>\n",
       "      <td>0.87291</td>\n",
       "      <td>0.889632</td>\n",
       "      <td>0.923077</td>\n",
       "      <td>0.916388</td>\n",
       "      <td>0.862876</td>\n",
       "      <td>0.882943</td>\n",
       "      <td>0.896321</td>\n",
       "      <td>0.909699</td>\n",
       "      <td>0.889632</td>\n",
       "      <td>0.866221</td>\n",
       "      <td>0.892977</td>\n",
       "      <td>0.919732</td>\n",
       "      <td>0.899666</td>\n",
       "      <td>0.876254</td>\n",
       "      <td>0.886288</td>\n",
       "      <td>0.862876</td>\n",
       "      <td>0.882943</td>\n",
       "      <td>0.923077</td>\n",
       "      <td>0.849498</td>\n",
       "      <td>0.913043</td>\n",
       "      <td>0.886288</td>\n",
       "      <td>0.909699</td>\n",
       "      <td>0.856187</td>\n",
       "      <td>0.899666</td>\n",
       "      <td>0.913043</td>\n",
       "      <td>0.896321</td>\n",
       "      <td>0.892977</td>\n",
       "      <td>0.866221</td>\n",
       "      <td>0.876254</td>\n",
       "      <td>0.892977</td>\n",
       "      <td>0.923077</td>\n",
       "      <td>0.90301</td>\n",
       "      <td>0.866221</td>\n",
       "      <td>0.846154</td>\n",
       "      <td>0.869565</td>\n",
       "      <td>0.916388</td>\n",
       "      <td>0.929766</td>\n",
       "      <td>0.906355</td>\n",
       "      <td>0.876254</td>\n",
       "      <td>0.886288</td>\n",
       "      <td>0.879599</td>\n",
       "      <td>0.919732</td>\n",
       "      <td>0.906355</td>\n",
       "      <td>0.899666</td>\n",
       "      <td>0.90301</td>\n",
       "      <td>0.889632</td>\n",
       "      <td>0.896321</td>\n",
       "      <td>0.879599</td>\n",
       "      <td>0.891706</td>\n",
       "      <td>0.020594</td>\n",
       "      <td>1</td>\n",
       "    </tr>\n",
       "    <tr>\n",
       "      <th>10</th>\n",
       "      <td>0.079504</td>\n",
       "      <td>0.010302</td>\n",
       "      <td>0.024294</td>\n",
       "      <td>0.004061</td>\n",
       "      <td>entropy</td>\n",
       "      <td>3</td>\n",
       "      <td>7</td>\n",
       "      <td>{'all_dtc__criterion': 'entropy', 'all_dtc__ma...</td>\n",
       "      <td>0.87291</td>\n",
       "      <td>0.909699</td>\n",
       "      <td>0.87291</td>\n",
       "      <td>0.889632</td>\n",
       "      <td>0.923077</td>\n",
       "      <td>0.916388</td>\n",
       "      <td>0.862876</td>\n",
       "      <td>0.882943</td>\n",
       "      <td>0.896321</td>\n",
       "      <td>0.909699</td>\n",
       "      <td>0.889632</td>\n",
       "      <td>0.866221</td>\n",
       "      <td>0.892977</td>\n",
       "      <td>0.919732</td>\n",
       "      <td>0.899666</td>\n",
       "      <td>0.876254</td>\n",
       "      <td>0.886288</td>\n",
       "      <td>0.862876</td>\n",
       "      <td>0.882943</td>\n",
       "      <td>0.923077</td>\n",
       "      <td>0.849498</td>\n",
       "      <td>0.913043</td>\n",
       "      <td>0.886288</td>\n",
       "      <td>0.909699</td>\n",
       "      <td>0.856187</td>\n",
       "      <td>0.899666</td>\n",
       "      <td>0.913043</td>\n",
       "      <td>0.896321</td>\n",
       "      <td>0.892977</td>\n",
       "      <td>0.866221</td>\n",
       "      <td>0.876254</td>\n",
       "      <td>0.892977</td>\n",
       "      <td>0.923077</td>\n",
       "      <td>0.90301</td>\n",
       "      <td>0.866221</td>\n",
       "      <td>0.846154</td>\n",
       "      <td>0.869565</td>\n",
       "      <td>0.916388</td>\n",
       "      <td>0.929766</td>\n",
       "      <td>0.906355</td>\n",
       "      <td>0.876254</td>\n",
       "      <td>0.886288</td>\n",
       "      <td>0.879599</td>\n",
       "      <td>0.919732</td>\n",
       "      <td>0.906355</td>\n",
       "      <td>0.899666</td>\n",
       "      <td>0.90301</td>\n",
       "      <td>0.889632</td>\n",
       "      <td>0.896321</td>\n",
       "      <td>0.879599</td>\n",
       "      <td>0.891706</td>\n",
       "      <td>0.020594</td>\n",
       "      <td>1</td>\n",
       "    </tr>\n",
       "    <tr>\n",
       "      <th>11</th>\n",
       "      <td>0.078597</td>\n",
       "      <td>0.008479</td>\n",
       "      <td>0.026482</td>\n",
       "      <td>0.006861</td>\n",
       "      <td>entropy</td>\n",
       "      <td>3</td>\n",
       "      <td>8</td>\n",
       "      <td>{'all_dtc__criterion': 'entropy', 'all_dtc__ma...</td>\n",
       "      <td>0.87291</td>\n",
       "      <td>0.909699</td>\n",
       "      <td>0.87291</td>\n",
       "      <td>0.889632</td>\n",
       "      <td>0.923077</td>\n",
       "      <td>0.916388</td>\n",
       "      <td>0.862876</td>\n",
       "      <td>0.882943</td>\n",
       "      <td>0.896321</td>\n",
       "      <td>0.909699</td>\n",
       "      <td>0.889632</td>\n",
       "      <td>0.866221</td>\n",
       "      <td>0.892977</td>\n",
       "      <td>0.919732</td>\n",
       "      <td>0.899666</td>\n",
       "      <td>0.876254</td>\n",
       "      <td>0.886288</td>\n",
       "      <td>0.862876</td>\n",
       "      <td>0.882943</td>\n",
       "      <td>0.923077</td>\n",
       "      <td>0.849498</td>\n",
       "      <td>0.913043</td>\n",
       "      <td>0.886288</td>\n",
       "      <td>0.909699</td>\n",
       "      <td>0.856187</td>\n",
       "      <td>0.899666</td>\n",
       "      <td>0.913043</td>\n",
       "      <td>0.896321</td>\n",
       "      <td>0.892977</td>\n",
       "      <td>0.866221</td>\n",
       "      <td>0.876254</td>\n",
       "      <td>0.892977</td>\n",
       "      <td>0.923077</td>\n",
       "      <td>0.90301</td>\n",
       "      <td>0.866221</td>\n",
       "      <td>0.846154</td>\n",
       "      <td>0.869565</td>\n",
       "      <td>0.916388</td>\n",
       "      <td>0.929766</td>\n",
       "      <td>0.906355</td>\n",
       "      <td>0.876254</td>\n",
       "      <td>0.886288</td>\n",
       "      <td>0.879599</td>\n",
       "      <td>0.919732</td>\n",
       "      <td>0.906355</td>\n",
       "      <td>0.899666</td>\n",
       "      <td>0.90301</td>\n",
       "      <td>0.889632</td>\n",
       "      <td>0.896321</td>\n",
       "      <td>0.879599</td>\n",
       "      <td>0.891706</td>\n",
       "      <td>0.020594</td>\n",
       "      <td>1</td>\n",
       "    </tr>\n",
       "  </tbody>\n",
       "</table>\n",
       "</div>"
      ],
      "text/plain": [
       "    mean_fit_time  std_fit_time  mean_score_time  std_score_time  \\\n",
       "7        0.088563      0.017830         0.025175        0.006260   \n",
       "8        0.078880      0.009074         0.025128        0.004524   \n",
       "9        0.084223      0.012787         0.025156        0.004603   \n",
       "10       0.079504      0.010302         0.024294        0.004061   \n",
       "11       0.078597      0.008479         0.026482        0.006861   \n",
       "\n",
       "   param_all_dtc__criterion param_all_dtc__max_depth  \\\n",
       "7                   entropy                        3   \n",
       "8                   entropy                        3   \n",
       "9                   entropy                        3   \n",
       "10                  entropy                        3   \n",
       "11                  entropy                        3   \n",
       "\n",
       "   param_all_dtc__min_samples_split  \\\n",
       "7                                 4   \n",
       "8                                 5   \n",
       "9                                 6   \n",
       "10                                7   \n",
       "11                                8   \n",
       "\n",
       "                                               params  split0_test_score  \\\n",
       "7   {'all_dtc__criterion': 'entropy', 'all_dtc__ma...            0.87291   \n",
       "8   {'all_dtc__criterion': 'entropy', 'all_dtc__ma...            0.87291   \n",
       "9   {'all_dtc__criterion': 'entropy', 'all_dtc__ma...            0.87291   \n",
       "10  {'all_dtc__criterion': 'entropy', 'all_dtc__ma...            0.87291   \n",
       "11  {'all_dtc__criterion': 'entropy', 'all_dtc__ma...            0.87291   \n",
       "\n",
       "    split1_test_score  split2_test_score  split3_test_score  \\\n",
       "7            0.909699            0.87291           0.889632   \n",
       "8            0.909699            0.87291           0.889632   \n",
       "9            0.909699            0.87291           0.889632   \n",
       "10           0.909699            0.87291           0.889632   \n",
       "11           0.909699            0.87291           0.889632   \n",
       "\n",
       "    split4_test_score  split5_test_score  split6_test_score  \\\n",
       "7            0.923077           0.916388           0.862876   \n",
       "8            0.923077           0.916388           0.862876   \n",
       "9            0.923077           0.916388           0.862876   \n",
       "10           0.923077           0.916388           0.862876   \n",
       "11           0.923077           0.916388           0.862876   \n",
       "\n",
       "    split7_test_score  split8_test_score  split9_test_score  \\\n",
       "7            0.882943           0.896321           0.909699   \n",
       "8            0.882943           0.896321           0.909699   \n",
       "9            0.882943           0.896321           0.909699   \n",
       "10           0.882943           0.896321           0.909699   \n",
       "11           0.882943           0.896321           0.909699   \n",
       "\n",
       "    split10_test_score  split11_test_score  split12_test_score  \\\n",
       "7             0.889632            0.866221            0.892977   \n",
       "8             0.889632            0.866221            0.892977   \n",
       "9             0.889632            0.866221            0.892977   \n",
       "10            0.889632            0.866221            0.892977   \n",
       "11            0.889632            0.866221            0.892977   \n",
       "\n",
       "    split13_test_score  split14_test_score  split15_test_score  \\\n",
       "7             0.919732            0.899666            0.876254   \n",
       "8             0.919732            0.899666            0.876254   \n",
       "9             0.919732            0.899666            0.876254   \n",
       "10            0.919732            0.899666            0.876254   \n",
       "11            0.919732            0.899666            0.876254   \n",
       "\n",
       "    split16_test_score  split17_test_score  split18_test_score  \\\n",
       "7             0.886288            0.862876            0.882943   \n",
       "8             0.886288            0.862876            0.882943   \n",
       "9             0.886288            0.862876            0.882943   \n",
       "10            0.886288            0.862876            0.882943   \n",
       "11            0.886288            0.862876            0.882943   \n",
       "\n",
       "    split19_test_score  split20_test_score  split21_test_score  \\\n",
       "7             0.923077            0.849498            0.913043   \n",
       "8             0.923077            0.849498            0.913043   \n",
       "9             0.923077            0.849498            0.913043   \n",
       "10            0.923077            0.849498            0.913043   \n",
       "11            0.923077            0.849498            0.913043   \n",
       "\n",
       "    split22_test_score  split23_test_score  split24_test_score  \\\n",
       "7             0.886288            0.909699            0.856187   \n",
       "8             0.886288            0.909699            0.856187   \n",
       "9             0.886288            0.909699            0.856187   \n",
       "10            0.886288            0.909699            0.856187   \n",
       "11            0.886288            0.909699            0.856187   \n",
       "\n",
       "    split25_test_score  split26_test_score  split27_test_score  \\\n",
       "7             0.899666            0.913043            0.896321   \n",
       "8             0.899666            0.913043            0.896321   \n",
       "9             0.899666            0.913043            0.896321   \n",
       "10            0.899666            0.913043            0.896321   \n",
       "11            0.899666            0.913043            0.896321   \n",
       "\n",
       "    split28_test_score  split29_test_score  split30_test_score  \\\n",
       "7             0.892977            0.866221            0.876254   \n",
       "8             0.892977            0.866221            0.876254   \n",
       "9             0.892977            0.866221            0.876254   \n",
       "10            0.892977            0.866221            0.876254   \n",
       "11            0.892977            0.866221            0.876254   \n",
       "\n",
       "    split31_test_score  split32_test_score  split33_test_score  \\\n",
       "7             0.892977            0.923077             0.90301   \n",
       "8             0.892977            0.923077             0.90301   \n",
       "9             0.892977            0.923077             0.90301   \n",
       "10            0.892977            0.923077             0.90301   \n",
       "11            0.892977            0.923077             0.90301   \n",
       "\n",
       "    split34_test_score  split35_test_score  split36_test_score  \\\n",
       "7             0.866221            0.846154            0.869565   \n",
       "8             0.866221            0.846154            0.869565   \n",
       "9             0.866221            0.846154            0.869565   \n",
       "10            0.866221            0.846154            0.869565   \n",
       "11            0.866221            0.846154            0.869565   \n",
       "\n",
       "    split37_test_score  split38_test_score  split39_test_score  \\\n",
       "7             0.916388            0.929766            0.906355   \n",
       "8             0.916388            0.929766            0.906355   \n",
       "9             0.916388            0.929766            0.906355   \n",
       "10            0.916388            0.929766            0.906355   \n",
       "11            0.916388            0.929766            0.906355   \n",
       "\n",
       "    split40_test_score  split41_test_score  split42_test_score  \\\n",
       "7             0.876254            0.886288            0.879599   \n",
       "8             0.876254            0.886288            0.879599   \n",
       "9             0.876254            0.886288            0.879599   \n",
       "10            0.876254            0.886288            0.879599   \n",
       "11            0.876254            0.886288            0.879599   \n",
       "\n",
       "    split43_test_score  split44_test_score  split45_test_score  \\\n",
       "7             0.919732            0.906355            0.899666   \n",
       "8             0.919732            0.906355            0.899666   \n",
       "9             0.919732            0.906355            0.899666   \n",
       "10            0.919732            0.906355            0.899666   \n",
       "11            0.919732            0.906355            0.899666   \n",
       "\n",
       "    split46_test_score  split47_test_score  split48_test_score  \\\n",
       "7              0.90301            0.889632            0.896321   \n",
       "8              0.90301            0.889632            0.896321   \n",
       "9              0.90301            0.889632            0.896321   \n",
       "10             0.90301            0.889632            0.896321   \n",
       "11             0.90301            0.889632            0.896321   \n",
       "\n",
       "    split49_test_score  mean_test_score  std_test_score  rank_test_score  \n",
       "7             0.879599         0.891706        0.020594                1  \n",
       "8             0.879599         0.891706        0.020594                1  \n",
       "9             0.879599         0.891706        0.020594                1  \n",
       "10            0.879599         0.891706        0.020594                1  \n",
       "11            0.879599         0.891706        0.020594                1  "
      ]
     },
     "execution_count": 63,
     "metadata": {},
     "output_type": "execute_result"
    }
   ],
   "source": [
    "cv_res_df = pd.DataFrame(dtc_gridsearch.cv_results_)\n",
    "cv_res_df[cv_res_df['rank_test_score'] == 1].head()"
   ]
  },
  {
   "cell_type": "code",
   "execution_count": 64,
   "metadata": {},
   "outputs": [],
   "source": [
    "dtc_default = dtc_pipe_all.fit(X_train_val, y_train_val)\n",
    "y_pred_dtc = dtc_default.predict(X_test) "
   ]
  },
  {
   "cell_type": "code",
   "execution_count": 65,
   "metadata": {},
   "outputs": [
    {
     "name": "stdout",
     "output_type": "stream",
     "text": [
      "              precision    recall  f1-score   support\n",
      "\n",
      "           0       0.82      0.78      0.80      1035\n",
      "           1       0.47      0.54      0.50       374\n",
      "\n",
      "    accuracy                           0.72      1409\n",
      "   macro avg       0.65      0.66      0.65      1409\n",
      "weighted avg       0.73      0.72      0.72      1409\n",
      "\n"
     ]
    }
   ],
   "source": [
    "print(classification_report(y_test, y_pred_dtc))"
   ]
  },
  {
   "cell_type": "code",
   "execution_count": 66,
   "metadata": {},
   "outputs": [
    {
     "data": {
      "image/png": "[encoded data removed]",
      "text/plain": [
       "<Figure size 432x288 with 2 Axes>"
      ]
     },
     "metadata": {
      "needs_background": "light"
     },
     "output_type": "display_data"
    }
   ],
   "source": [
    "dtc_confusion_matrix = metrics.confusion_matrix(y_test, y_pred_dtc)\n",
    "sns.heatmap(dtc_confusion_matrix, annot=True, fmt=\"d\", cmap=\"nipy_spectral\")\n",
    "\n",
    "plt.xlabel(\"Predicted Label\", fontsize= 12)\n",
    "plt.ylabel(\"True Label\", fontsize= 12)\n",
    "\n",
    "# plt.savefig('dtc.png', dpi=75, bbox_inches='tight')\n",
    "plt.show()"
   ]
  },
  {
   "cell_type": "code",
   "execution_count": 67,
   "metadata": {},
   "outputs": [
    {
     "name": "stdout",
     "output_type": "stream",
     "text": [
      "Pelanggan yang diprediksi tidak berhenti tapi ternyata berhenti : 18.64 %\n",
      "Pelanggan yang diprediksi berhenti tapi ternyata tidak : 50.69 %\n"
     ]
    }
   ],
   "source": [
    "print(\"Pelanggan yang diprediksi tidak berhenti tapi ternyata berhenti :\", round(195/(851+195)*100,2),\"%\")\n",
    "print(\"Pelanggan yang diprediksi berhenti tapi ternyata tidak :\", round(184/(179+184)*100,2),\"%\")"
   ]
  },
  {
   "cell_type": "code",
   "execution_count": 68,
   "metadata": {},
   "outputs": [],
   "source": [
    "dtc_tuned = dtc_gridsearch.best_estimator_.fit(X_train_val, y_train_val)\n",
    "y_pred_dtc_tuned = dtc_tuned.predict(X_test)"
   ]
  },
  {
   "cell_type": "code",
   "execution_count": 69,
   "metadata": {},
   "outputs": [
    {
     "name": "stdout",
     "output_type": "stream",
     "text": [
      "              precision    recall  f1-score   support\n",
      "\n",
      "           0       0.91      0.57      0.70      1035\n",
      "           1       0.42      0.85      0.56       374\n",
      "\n",
      "    accuracy                           0.64      1409\n",
      "   macro avg       0.67      0.71      0.63      1409\n",
      "weighted avg       0.78      0.64      0.66      1409\n",
      "\n"
     ]
    }
   ],
   "source": [
    "print(classification_report(y_test, y_pred_dtc_tuned))"
   ]
  },
  {
   "cell_type": "code",
   "execution_count": 70,
   "metadata": {},
   "outputs": [
    {
     "data": {
      "image/png": "[encoded data removed]",
      "text/plain": [
       "<Figure size 432x288 with 2 Axes>"
      ]
     },
     "metadata": {
      "needs_background": "light"
     },
     "output_type": "display_data"
    }
   ],
   "source": [
    "dtc_tuned_confusion_matrix = metrics.confusion_matrix(y_test, y_pred_dtc_tuned)\n",
    "sns.heatmap(dtc_tuned_confusion_matrix, annot=True, fmt=\"d\")\n",
    "\n",
    "plt.xlabel(\"Predicted Label\", fontsize= 12)\n",
    "plt.ylabel(\"True Label\", fontsize= 12)\n",
    "\n",
    "# plt.savefig('dtc_tuned.png', dpi=75, bbox_inches='tight')\n",
    "plt.show()"
   ]
  },
  {
   "cell_type": "code",
   "execution_count": 71,
   "metadata": {},
   "outputs": [
    {
     "name": "stdout",
     "output_type": "stream",
     "text": [
      "Pelanggan yang diprediksi tidak berhenti tapi ternyata berhenti : 8.55 %\n",
      "Pelanggan yang diprediksi berhenti tapi ternyata tidak : 58.36 %\n"
     ]
    }
   ],
   "source": [
    "print(\"Pelanggan yang diprediksi tidak berhenti tapi ternyata berhenti :\", round(55/(588+55)*100,2),\"%\")\n",
    "print(\"Pelanggan yang diprediksi berhenti tapi ternyata tidak :\", round(447/(319+447)*100,2),\"%\")"
   ]
  },
  {
   "cell_type": "code",
   "execution_count": 72,
   "metadata": {},
   "outputs": [
    {
     "data": {
      "text/plain": [
       "<sklearn.metrics._plot.precision_recall_curve.PrecisionRecallDisplay at 0x21263763040>"
      ]
     },
     "execution_count": 72,
     "metadata": {},
     "output_type": "execute_result"
    },
    {
     "data": {
      "image/png": "[encoded data removed]",
      "text/plain": [
       "<Figure size 432x288 with 1 Axes>"
      ]
     },
     "metadata": {
      "needs_background": "light"
     },
     "output_type": "display_data"
    }
   ],
   "source": [
    "plot_precision_recall_curve(dtc_tuned, X_test, y_test)"
   ]
  },
  {
   "cell_type": "markdown",
   "metadata": {},
   "source": [
    "#### Random Forest"
   ]
  },
  {
   "cell_type": "code",
   "execution_count": 73,
   "metadata": {},
   "outputs": [
    {
     "data": {
      "text/plain": [
       "{'memory': None,\n",
       " 'steps': [('transformer',\n",
       "   ColumnTransformer(remainder='passthrough',\n",
       "                     transformers=[('num',\n",
       "                                    Pipeline(steps=[('scaler', RobustScaler()),\n",
       "                                                    ('pca', PCA(n_components=1))]),\n",
       "                                    ['MonthlyCharges', 'TotalCharges']),\n",
       "                                   ('cat',\n",
       "                                    Pipeline(steps=[('onehot',\n",
       "                                                     OneHotEncoder(drop='first'))]),\n",
       "                                    ['SeniorCitizen', 'Partner', 'Dependents',\n",
       "                                     'MultipleLines', 'InternetService',\n",
       "                                     'OnlineSecurity', 'OnlineBackup',\n",
       "                                     'DeviceProtection', 'TechSupport',\n",
       "                                     'StreamingTV', 'StreamingMovies', 'Contract',\n",
       "                                     'PaperlessBilling', 'PaymentMethod'])])),\n",
       "  ('percen', SelectPercentile(percentile=50)),\n",
       "  ('all_rfc',\n",
       "   RandomForestClassifier(class_weight='balanced', random_state=2020))],\n",
       " 'verbose': False,\n",
       " 'transformer': ColumnTransformer(remainder='passthrough',\n",
       "                   transformers=[('num',\n",
       "                                  Pipeline(steps=[('scaler', RobustScaler()),\n",
       "                                                  ('pca', PCA(n_components=1))]),\n",
       "                                  ['MonthlyCharges', 'TotalCharges']),\n",
       "                                 ('cat',\n",
       "                                  Pipeline(steps=[('onehot',\n",
       "                                                   OneHotEncoder(drop='first'))]),\n",
       "                                  ['SeniorCitizen', 'Partner', 'Dependents',\n",
       "                                   'MultipleLines', 'InternetService',\n",
       "                                   'OnlineSecurity', 'OnlineBackup',\n",
       "                                   'DeviceProtection', 'TechSupport',\n",
       "                                   'StreamingTV', 'StreamingMovies', 'Contract',\n",
       "                                   'PaperlessBilling', 'PaymentMethod'])]),\n",
       " 'percen': SelectPercentile(percentile=50),\n",
       " 'all_rfc': RandomForestClassifier(class_weight='balanced', random_state=2020),\n",
       " 'transformer__n_jobs': None,\n",
       " 'transformer__remainder': 'passthrough',\n",
       " 'transformer__sparse_threshold': 0.3,\n",
       " 'transformer__transformer_weights': None,\n",
       " 'transformer__transformers': [('num',\n",
       "   Pipeline(steps=[('scaler', RobustScaler()), ('pca', PCA(n_components=1))]),\n",
       "   ['MonthlyCharges', 'TotalCharges']),\n",
       "  ('cat',\n",
       "   Pipeline(steps=[('onehot', OneHotEncoder(drop='first'))]),\n",
       "   ['SeniorCitizen',\n",
       "    'Partner',\n",
       "    'Dependents',\n",
       "    'MultipleLines',\n",
       "    'InternetService',\n",
       "    'OnlineSecurity',\n",
       "    'OnlineBackup',\n",
       "    'DeviceProtection',\n",
       "    'TechSupport',\n",
       "    'StreamingTV',\n",
       "    'StreamingMovies',\n",
       "    'Contract',\n",
       "    'PaperlessBilling',\n",
       "    'PaymentMethod'])],\n",
       " 'transformer__verbose': False,\n",
       " 'transformer__num': Pipeline(steps=[('scaler', RobustScaler()), ('pca', PCA(n_components=1))]),\n",
       " 'transformer__cat': Pipeline(steps=[('onehot', OneHotEncoder(drop='first'))]),\n",
       " 'transformer__num__memory': None,\n",
       " 'transformer__num__steps': [('scaler', RobustScaler()),\n",
       "  ('pca', PCA(n_components=1))],\n",
       " 'transformer__num__verbose': False,\n",
       " 'transformer__num__scaler': RobustScaler(),\n",
       " 'transformer__num__pca': PCA(n_components=1),\n",
       " 'transformer__num__scaler__copy': True,\n",
       " 'transformer__num__scaler__quantile_range': (25.0, 75.0),\n",
       " 'transformer__num__scaler__with_centering': True,\n",
       " 'transformer__num__scaler__with_scaling': True,\n",
       " 'transformer__num__pca__copy': True,\n",
       " 'transformer__num__pca__iterated_power': 'auto',\n",
       " 'transformer__num__pca__n_components': 1,\n",
       " 'transformer__num__pca__random_state': None,\n",
       " 'transformer__num__pca__svd_solver': 'auto',\n",
       " 'transformer__num__pca__tol': 0.0,\n",
       " 'transformer__num__pca__whiten': False,\n",
       " 'transformer__cat__memory': None,\n",
       " 'transformer__cat__steps': [('onehot', OneHotEncoder(drop='first'))],\n",
       " 'transformer__cat__verbose': False,\n",
       " 'transformer__cat__onehot': OneHotEncoder(drop='first'),\n",
       " 'transformer__cat__onehot__categories': 'auto',\n",
       " 'transformer__cat__onehot__drop': 'first',\n",
       " 'transformer__cat__onehot__dtype': numpy.float64,\n",
       " 'transformer__cat__onehot__handle_unknown': 'error',\n",
       " 'transformer__cat__onehot__sparse': True,\n",
       " 'percen__percentile': 50,\n",
       " 'percen__score_func': <function sklearn.feature_selection._univariate_selection.f_classif(X, y)>,\n",
       " 'all_rfc__bootstrap': True,\n",
       " 'all_rfc__ccp_alpha': 0.0,\n",
       " 'all_rfc__class_weight': 'balanced',\n",
       " 'all_rfc__criterion': 'gini',\n",
       " 'all_rfc__max_depth': None,\n",
       " 'all_rfc__max_features': 'auto',\n",
       " 'all_rfc__max_leaf_nodes': None,\n",
       " 'all_rfc__max_samples': None,\n",
       " 'all_rfc__min_impurity_decrease': 0.0,\n",
       " 'all_rfc__min_impurity_split': None,\n",
       " 'all_rfc__min_samples_leaf': 1,\n",
       " 'all_rfc__min_samples_split': 2,\n",
       " 'all_rfc__min_weight_fraction_leaf': 0.0,\n",
       " 'all_rfc__n_estimators': 100,\n",
       " 'all_rfc__n_jobs': None,\n",
       " 'all_rfc__oob_score': False,\n",
       " 'all_rfc__random_state': 2020,\n",
       " 'all_rfc__verbose': 0,\n",
       " 'all_rfc__warm_start': False}"
      ]
     },
     "execution_count": 73,
     "metadata": {},
     "output_type": "execute_result"
    }
   ],
   "source": [
    "rfc_pipe_all_tuned.get_params()"
   ]
  },
  {
   "cell_type": "code",
   "execution_count": null,
   "metadata": {},
   "outputs": [
    {
     "name": "stdout",
     "output_type": "stream",
     "text": [
      "Fitting 50 folds for each of 84 candidates, totalling 4200 fits\n"
     ]
    },
    {
     "name": "stderr",
     "output_type": "stream",
     "text": [
      "[Parallel(n_jobs=-1)]: Using backend LokyBackend with 2 concurrent workers.\n",
      "[Parallel(n_jobs=-1)]: Done  46 tasks      | elapsed:   12.6s\n",
      "[Parallel(n_jobs=-1)]: Done 196 tasks      | elapsed:   54.9s\n",
      "[Parallel(n_jobs=-1)]: Done 446 tasks      | elapsed:  2.1min\n",
      "[Parallel(n_jobs=-1)]: Done 796 tasks      | elapsed:  4.1min\n",
      "[Parallel(n_jobs=-1)]: Done 1246 tasks      | elapsed:  6.5min\n",
      "[Parallel(n_jobs=-1)]: Done 1796 tasks      | elapsed:  9.2min\n",
      "[Parallel(n_jobs=-1)]: Done 2446 tasks      | elapsed: 12.0min\n",
      "[Parallel(n_jobs=-1)]: Done 3196 tasks      | elapsed: 15.1min\n",
      "[Parallel(n_jobs=-1)]: Done 4046 tasks      | elapsed: 19.3min\n"
     ]
    }
   ],
   "source": [
    "hyperparam_space = {\n",
    "    'all_rfc__min_samples_split': [4,5,6,7,8,9,10],\n",
    "    'all_rfc__max_depth': [2,3,4,5,6,7],\n",
    "    'all_rfc__criterion': ['entropy', 'gini']  \n",
    "}\n",
    "\n",
    "rskf = RepeatedStratifiedKFold(random_state=2020) # cukup skf\n",
    "\n",
    "rfc_gridsearch = GridSearchCV(rfc_pipe_all_tuned, hyperparam_space, scoring='recall', n_jobs=-1, cv=rskf, verbose = 1)\n",
    "rfc_gridsearch.fit(X_train_val, y_train_val)"
   ]
  },
  {
   "cell_type": "code",
   "execution_count": null,
   "metadata": {},
   "outputs": [],
   "source": [
    "rfc_gridsearch.best_params_"
   ]
  },
  {
   "cell_type": "code",
   "execution_count": null,
   "metadata": {},
   "outputs": [],
   "source": [
    "rfc_gridsearch.best_estimator_"
   ]
  },
  {
   "cell_type": "code",
   "execution_count": null,
   "metadata": {},
   "outputs": [],
   "source": [
    "cv_res_df = pd.DataFrame(rfc_gridsearch.cv_results_)\n",
    "cv_res_df[cv_res_df['rank_test_score'] == 1].head()"
   ]
  },
  {
   "cell_type": "code",
   "execution_count": null,
   "metadata": {},
   "outputs": [],
   "source": [
    "rfc_default = rfc_pipe_all.fit(X_train_val, y_train_val)\n",
    "y_pred_rfc = rfc_default.predict(X_test) "
   ]
  },
  {
   "cell_type": "code",
   "execution_count": null,
   "metadata": {},
   "outputs": [],
   "source": [
    "print(classification_report(y_test, y_pred_rfc))"
   ]
  },
  {
   "cell_type": "code",
   "execution_count": null,
   "metadata": {},
   "outputs": [],
   "source": [
    "rfc_confusion_matrix = metrics.confusion_matrix(y_test, y_pred_rfc)\n",
    "sns.heatmap(rfc_confusion_matrix, annot=True, fmt=\"d\", cmap=\"nipy_spectral\")\n",
    "\n",
    "plt.xlabel(\"Predicted Label\", fontsize= 12)\n",
    "plt.ylabel(\"True Label\", fontsize= 12)\n",
    "\n",
    "plt.show()"
   ]
  },
  {
   "cell_type": "code",
   "execution_count": null,
   "metadata": {},
   "outputs": [],
   "source": [
    "print(\"Pelanggan yang diprediksi tidak berhenti tapi ternyata berhenti :\", round(183/(871+183)*100,2),\"%\")\n",
    "print(\"Pelanggan yang diprediksi berhenti tapi ternyata tidak :\", round(164/(191+164)*100,2),\"%\")"
   ]
  },
  {
   "cell_type": "code",
   "execution_count": null,
   "metadata": {},
   "outputs": [],
   "source": [
    "rfc_tuned = rfc_gridsearch.best_estimator_.fit(X_train_val, y_train_val)\n",
    "y_pred_rfc_tuned = rfc_tuned.predict(X_test)"
   ]
  },
  {
   "cell_type": "code",
   "execution_count": null,
   "metadata": {},
   "outputs": [],
   "source": [
    "print(classification_report(y_test, y_pred_rfc_tuned))"
   ]
  },
  {
   "cell_type": "code",
   "execution_count": null,
   "metadata": {},
   "outputs": [],
   "source": [
    "rfc_tuned_confusion_matrix = metrics.confusion_matrix(y_test, y_pred_rfc_tuned)\n",
    "sns.heatmap(rfc_tuned_confusion_matrix, annot=True, fmt=\"d\")\n",
    "\n",
    "plt.xlabel(\"Predicted Label\", fontsize= 12)\n",
    "plt.ylabel(\"True Label\", fontsize= 12)\n",
    "\n",
    "plt.show()"
   ]
  },
  {
   "cell_type": "code",
   "execution_count": null,
   "metadata": {},
   "outputs": [],
   "source": [
    "print(\"Pelanggan yang diprediksi tidak berhenti tapi ternyata berhenti :\", round(64/(678+64)*100,2),\"%\")\n",
    "print(\"Pelanggan yang diprediksi berhenti tapi ternyata tidak :\", round(357/(310+357)*100,2),\"%\")"
   ]
  },
  {
   "cell_type": "code",
   "execution_count": null,
   "metadata": {},
   "outputs": [],
   "source": [
    "plot_precision_recall_curve(rfc_tuned, X_test, y_test) "
   ]
  },
  {
   "cell_type": "markdown",
   "metadata": {},
   "source": [
    "## Kesimpulan"
   ]
  },
  {
   "cell_type": "code",
   "execution_count": null,
   "metadata": {},
   "outputs": [],
   "source": [
    "dct_con = dtc_tuned.predict(X_test)\n",
    "\n",
    "con = pd.DataFrame(data=confusion_matrix(y_test, dct_con), \n",
    "                   columns=['P No', 'P Yes'],\n",
    "                   index = ['A No', 'A Yes']);\n",
    "print(con)"
   ]
  },
  {
   "cell_type": "markdown",
   "metadata": {},
   "source": [
    "Berdasarkan hasil confusion matrix dan waktu perhitungan, kita dapati bahwa performa terbaik terdapat dalam model Decision Tree Classifier. Setelah dilakukan hyperparameter tuning pada model, 'recall' score bertambah drastis, yaitu dari 0.48 menjadi 0.85"
   ]
  },
  {
   "cell_type": "markdown",
   "metadata": {},
   "source": [
    "Model machine learning yang dikembangkan dapat membantu perusahaan untuk menurunkan biaya dan waktu dalam memprediksi pelanggan mana yang akan berhenti. Sebagaimana disebutkan pada bagian problem stetment, fokus kita adalah false negative rate. Dimana kita ketahui sebelumnya bahwa, biaya yang dikeuarkan untuk memperoleh pelanggan 5 kali lebih besar dari biaya mempertahankan pelanggan yang sudah ada.\n",
    "\n",
    "Dapat kita simpulkan, dari 100 pelanggan yang diteliti, machine learning hanya menghasilkan kesalahan berjumlah 9 pelanggan atau 8,55%. Artinya 9 pelanggan tersebut tidak akan mendapat perlakuan khusus dari perusahaan dan akan berhenti berlangganan. Terdapat peningkatan dari model sebelumnya sebelum dituning, yakni dari 100 pelanggan yang diteliti, kesalahan prediksi mencapai 19 orang atau 18,64%.\n",
    "\n",
    "Namun, yang perlu diingat juga bahwa terdapat konsekuensi lain. Yakni dari 100 pelanggan yang diprediksi akan berhenti berlangganan, ternyata 58,36% nya, atau 59 orang akan mendapatkan perlakuan khusus, tapi ternyata mereka tidak ada kecenderungan untuk churn dan akan tetap berlangganan. Jika dibandingkan model sebelumnya juga terdapat peningkatan dari 50.69% atau hanya 51 orang."
   ]
  }
 ],
 "metadata": {
  "kernelspec": {
   "display_name": "Python 3",
   "language": "python",
   "name": "python3"
  },
  "language_info": {
   "codemirror_mode": {
    "name": "ipython",
    "version": 3
   },
   "file_extension": ".py",
   "mimetype": "text/x-python",
   "name": "python",
   "nbconvert_exporter": "python",
   "pygments_lexer": "ipython3",
   "version": "3.8.5"
  }
 },
 "nbformat": 4,
 "nbformat_minor": 4
}
